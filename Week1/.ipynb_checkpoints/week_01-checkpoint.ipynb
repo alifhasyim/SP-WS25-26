{
 "cells": [
  {
   "cell_type": "markdown",
   "id": "d2948680-8d10-4b4e-84e1-4e125e6376db",
   "metadata": {
    "editable": true,
    "slideshow": {
     "slide_type": ""
    },
    "tags": []
   },
   "source": [
    "# WEEK 01 - Getting Started\n",
    "\n",
    "## What is JupyterLab?\n",
    "\n",
    "What you see in front of you is a marvel of technology! Just as it is difficult to imagine how there is more computing power in a modern iPhone than there was in the Apollo 9 mission (!), the environment you are interacting with provides a colossal conglomerate of integrated functionalities and services to the developer that was difficult to imagine only a few years ago. And it is surprising to me how many people take this fact for granted!\n",
    "\n",
    "The JupyterLab environment is arguably the de facto leader in a new trend referred to as computational notebooks. In layman terms, a computational notebook is a document that combines code, text, and media into a single unit.\n",
    "\n",
    "It means I can write down my favorite equation $e = mc^2$ and, if I'm more adventurous, say hello to you with a piece of Python code :)\n",
    "\n",
    "Go ahead and run the following cell. You have several options for *running* a *cell* but for now just click on the box below and hit `shit + enter`"
   ]
  },
  {
   "cell_type": "code",
   "execution_count": 2,
   "id": "7ebfa55f-4a34-4861-bc25-94461118e20e",
   "metadata": {
    "editable": false,
    "slideshow": {
     "slide_type": ""
    },
    "tags": []
   },
   "outputs": [
    {
     "name": "stdout",
     "output_type": "stream",
     "text": [
      "Hello there!\n"
     ]
    }
   ],
   "source": [
    "print (\"Hello there!\")"
   ]
  },
  {
   "cell_type": "markdown",
   "id": "d610761b-7b17-460f-b756-da4c2e23b4c0",
   "metadata": {
    "editable": false,
    "slideshow": {
     "slide_type": ""
    },
    "tags": []
   },
   "source": [
    "You should see the string `Hello there!` appearing under the box.\n",
    "\n",
    "Congratulations! You have executed your first cell.\n",
    "\n",
    "As you can imagine, we can, and will, do a lot more interesting things, e.g., execute the cells below to get some information about the OS, CPU and the Python version of the environment. Note that some of these commands are OS specific; therefore, run the appropriate cells."
   ]
  },
  {
   "cell_type": "code",
   "execution_count": 2,
   "id": "b0721405-3425-4d6e-9a99-5d4f05adb906",
   "metadata": {
    "editable": true,
    "slideshow": {
     "slide_type": ""
    },
    "tags": []
   },
   "outputs": [
    {
     "name": "stdout",
     "output_type": "stream",
     "text": [
      "PRETTY_NAME=\"Ubuntu 24.04.1 LTS\"\n",
      "NAME=\"Ubuntu\"\n",
      "VERSION_ID=\"24.04\"\n",
      "VERSION=\"24.04.1 LTS (Noble Numbat)\"\n",
      "VERSION_CODENAME=noble\n",
      "ID=ubuntu\n",
      "ID_LIKE=debian\n",
      "HOME_URL=\"https://www.ubuntu.com/\"\n",
      "SUPPORT_URL=\"https://help.ubuntu.com/\"\n",
      "BUG_REPORT_URL=\"https://bugs.launchpad.net/ubuntu/\"\n",
      "PRIVACY_POLICY_URL=\"https://www.ubuntu.com/legal/terms-and-policies/privacy-policy\"\n",
      "UBUNTU_CODENAME=noble\n",
      "LOGO=ubuntu-logo\n"
     ]
    }
   ],
   "source": [
    "# Linux, MacOS\n",
    "!cat /etc/os-release"
   ]
  },
  {
   "cell_type": "code",
   "execution_count": 3,
   "id": "7a198019-bf17-4abd-97e2-ce699e40818f",
   "metadata": {
    "editable": true,
    "slideshow": {
     "slide_type": ""
    },
    "tags": []
   },
   "outputs": [
    {
     "name": "stdout",
     "output_type": "stream",
     "text": [
      "Architecture:             aarch64\n",
      "  CPU op-mode(s):         64-bit\n",
      "  Byte Order:             Little Endian\n",
      "CPU(s):                   10\n",
      "  On-line CPU(s) list:    0-9\n",
      "Vendor ID:                Apple\n",
      "  Model name:             -\n",
      "    Model:                0\n",
      "    Thread(s) per core:   1\n",
      "    Core(s) per cluster:  10\n",
      "    Socket(s):            -\n",
      "    Cluster(s):           1\n",
      "    Stepping:             0x0\n",
      "    BogoMIPS:             48.00\n",
      "    Flags:                fp asimd evtstrm aes pmull sha1 sha2 crc32 atomics fph\n",
      "                          p asimdhp cpuid asimdrdm jscvt fcma lrcpc dcpop sha3 a\n",
      "                          simddp sha512 asimdfhm dit uscat ilrcpc flagm ssbs sb \n",
      "                          paca pacg dcpodp flagm2 frint\n",
      "Vulnerabilities:          \n",
      "  Gather data sampling:   Not affected\n",
      "  Itlb multihit:          Not affected\n",
      "  L1tf:                   Not affected\n",
      "  Mds:                    Not affected\n",
      "  Meltdown:               Not affected\n",
      "  Mmio stale data:        Not affected\n",
      "  Reg file data sampling: Not affected\n",
      "  Retbleed:               Not affected\n",
      "  Spec rstack overflow:   Not affected\n",
      "  Spec store bypass:      Mitigation; Speculative Store Bypass disabled via prct\n",
      "                          l\n",
      "  Spectre v1:             Mitigation; __user pointer sanitization\n",
      "  Spectre v2:             Not affected\n",
      "  Srbds:                  Not affected\n",
      "  Tsx async abort:        Not affected\n"
     ]
    }
   ],
   "source": [
    "# Linux, MacOS\n",
    "!lscpu"
   ]
  },
  {
   "cell_type": "code",
   "execution_count": null,
   "id": "a7dfa742-c36f-47e4-9fe4-83dd864611bf",
   "metadata": {
    "editable": true,
    "slideshow": {
     "slide_type": ""
    },
    "tags": []
   },
   "outputs": [],
   "source": [
    "# Windows\n",
    "!systeminfo"
   ]
  },
  {
   "cell_type": "code",
   "execution_count": 4,
   "id": "e7aff7a6-b9ad-4881-b3d1-3af6ea6bf48d",
   "metadata": {
    "editable": true,
    "slideshow": {
     "slide_type": ""
    },
    "tags": []
   },
   "outputs": [
    {
     "name": "stdout",
     "output_type": "stream",
     "text": [
      "Python 3.11.9\n"
     ]
    }
   ],
   "source": [
    "!python --version"
   ]
  },
  {
   "cell_type": "markdown",
   "id": "968132c8-a484-4c44-99db-8cb671031d13",
   "metadata": {
    "editable": false,
    "slideshow": {
     "slide_type": ""
    },
    "tags": []
   },
   "source": [
    "## Terminology\n",
    "\n",
    "Now for some terminology such that we are all on the same page:\n",
    "\n",
    "- The *box* is called a **cell**\n",
    "- The document you are interacting with is a **Jupyter notebook**\n",
    "- Jupyter notebooks are made up of cells\n",
    "- Each cell can contain code, text or a variety of media\n",
    "- You can have multiple notebooks open at the same time and they will operate independently from each other\n",
    "\n",
    "## How does it all work?\n",
    "\n",
    "It is not absolutely necessary for you to understand how all of this works to participate in the course; nevertheless, I find it useful to at least know, albeit from a distance, the fundamental processes that go under the hood.\n",
    "\n",
    "## Main features\n",
    "\n",
    "The JupyterLab comprises a myriad of features, which we cannot exhaust here in favor of time; therefore, we will limit ourselves to the most essential features that you need throughout the course:\n",
    "\n",
    "### Main work area\n",
    "\n",
    "The main area is where most of the work happens. This notebook is open in the main work area.\n",
    "\n",
    "### Launcher\n",
    "\n",
    "The launcher is the default tab, from which you can start a new notebook, console, terminal, etc.\n",
    "\n",
    "### Sidebars\n",
    "\n",
    "The left sidebar includes:\n",
    "\n",
    "- a file browser\n",
    "- a list of tabs and running kernels and terminals, etc.\n",
    "- git integration\n",
    "- table of contents\n",
    "- the extension manager\n",
    "\n",
    "The right sidebar includes:\n",
    "\n",
    "- the property inspector\n",
    "- the debugger"
   ]
  },
  {
   "cell_type": "markdown",
   "id": "a8f83d89-e969-4571-b581-e25e8a1f961b",
   "metadata": {
    "editable": false,
    "slideshow": {
     "slide_type": ""
    },
    "tags": []
   },
   "source": [
    "Copyright 2024 &copy; Manuel Saberi, High Performance Computing, Ruhr University Bochum. All rights reserved. No part of this notebook may be reproduced, distributed, or transmitted in any form or by any means, including photocopying, recording, or other electronic or mechanical methods, without the prior written permission of the publisher."
   ]
  },
  {
   "cell_type": "code",
   "execution_count": null,
   "id": "b0dd0815-9178-4754-8c0f-fdc9864df173",
   "metadata": {
    "editable": true,
    "slideshow": {
     "slide_type": ""
    },
    "tags": []
   },
   "outputs": [],
   "source": []
  }
 ],
 "metadata": {
  "kernelspec": {
   "display_name": "Python 3 (ipykernel)",
   "language": "python",
   "name": "python3"
  },
  "language_info": {
   "codemirror_mode": {
    "name": "ipython",
    "version": 3
   },
   "file_extension": ".py",
   "mimetype": "text/x-python",
   "name": "python",
   "nbconvert_exporter": "python",
   "pygments_lexer": "ipython3",
   "version": "3.11.9"
  }
 },
 "nbformat": 4,
 "nbformat_minor": 5
}
