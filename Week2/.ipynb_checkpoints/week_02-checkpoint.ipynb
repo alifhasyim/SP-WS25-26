{
 "cells": [
  {
   "cell_type": "markdown",
   "id": "c0161284-d5dc-42cf-849c-bc39b844c3a6",
   "metadata": {
    "editable": false,
    "slideshow": {
     "slide_type": ""
    },
    "tags": []
   },
   "source": [
    "# WEEK 02 - Procedural Programming 1\n",
    "\n",
    "## Learning objectives\n",
    "\n",
    "- Getting started with basic procedural programming in Python\n",
    "- Learning the usage of variables, operators and conditional statements\n",
    "- Taking first steps in translating a desired computational task into program logic\n",
    "\n",
    "In the following, we will get started with the most basic programming concepts in Python and get hands-on experience writing and executing Python code.\n",
    "\n",
    "## Hello World!\n",
    "\n",
    "This is arguably where all programming journeys have started since the beginning of time, so keeping up with the tradition we will start with that most intriguing task.\n",
    "\n",
    "Write a Python code that prints `Hello World!` to the standard output."
   ]
  },
  {
   "cell_type": "code",
   "execution_count": 2,
   "id": "4ef64fdd-2f38-4a4e-8e6a-ad19e43e257f",
   "metadata": {
    "editable": true,
    "slideshow": {
     "slide_type": ""
    },
    "tags": []
   },
   "outputs": [
    {
     "name": "stdout",
     "output_type": "stream",
     "text": [
      "Hello World!\n"
     ]
    }
   ],
   "source": [
    "\"\"\"\n",
    "Your task is to write a program that prints \"Hello World!\" to the standard output.\n",
    "\n",
    "\"\"\";\n",
    "\n",
    "# Code here\n",
    "print(\"Hello World!\")"
   ]
  },
  {
   "cell_type": "markdown",
   "id": "128d6e31-f886-40a8-af30-f1847a3439af",
   "metadata": {
    "editable": false,
    "slideshow": {
     "slide_type": ""
    },
    "tags": []
   },
   "source": [
    "**Expressions** are the smallest building blocks of a program—combinations of numbers, operators, or names that **evaluate to a value**.\n",
    "In this section, we will:\n",
    "- Explore how Python **evaluates** arithmetic and string **expressions**\n",
    "- How expressions differ from **statements**\n",
    "- Learn how to create and store results in **variables**\n",
    "- Understand the difference between **assignment** `=` and **comparison** `==`\n",
    "- Get more familiar with the **Jupyter environment**\n",
    "\n",
    "In Jupyter, you can type an expression in a cell and run it to see its value.\n",
    "Try to predict each result before running the cells below."
   ]
  },
  {
   "cell_type": "code",
   "execution_count": 7,
   "id": "d9abd155-05d7-453b-a1fd-6dcefda2cc28",
   "metadata": {
    "editable": true,
    "slideshow": {
     "slide_type": ""
    },
    "tags": []
   },
   "outputs": [
    {
     "data": {
      "text/plain": [
       "8"
      ]
     },
     "execution_count": 7,
     "metadata": {},
     "output_type": "execute_result"
    }
   ],
   "source": [
    "3 + 5 # basic arithmetic - addition (return integer)\n",
    "# Returns value, evaluate value"
   ]
  },
  {
   "cell_type": "code",
   "execution_count": 8,
   "id": "eefb513e-5add-4034-aef6-826cb1eda4f7",
   "metadata": {
    "editable": true,
    "slideshow": {
     "slide_type": ""
    },
    "tags": []
   },
   "outputs": [
    {
     "data": {
      "text/plain": [
       "3.5"
      ]
     },
     "execution_count": 8,
     "metadata": {},
     "output_type": "execute_result"
    }
   ],
   "source": [
    "7 / 2 # basic arithmetic - division (return float)"
   ]
  },
  {
   "cell_type": "code",
   "execution_count": 24,
   "id": "890cd2bf-e10d-4b42-afdc-bbbe0962aa19",
   "metadata": {
    "editable": true,
    "slideshow": {
     "slide_type": ""
    },
    "tags": []
   },
   "outputs": [
    {
     "data": {
      "text/plain": [
       "3"
      ]
     },
     "execution_count": 24,
     "metadata": {},
     "output_type": "execute_result"
    }
   ],
   "source": [
    "7 // 2 # floor division (return integer)\n",
    "# Return the lower integer value of the division (round off from 3.5 to 3)\n",
    "# The difference from division is the data type that is being returned"
   ]
  },
  {
   "cell_type": "code",
   "execution_count": 10,
   "id": "bf8ac1d4-4700-45e7-9256-69a092832c4a",
   "metadata": {
    "editable": true,
    "slideshow": {
     "slide_type": ""
    },
    "tags": []
   },
   "outputs": [
    {
     "data": {
      "text/plain": [
       "8"
      ]
     },
     "execution_count": 10,
     "metadata": {},
     "output_type": "execute_result"
    }
   ],
   "source": [
    "2**3 # exponentiation (return integer)"
   ]
  },
  {
   "cell_type": "code",
   "execution_count": 11,
   "id": "4df7934c-f25b-4bc2-ab02-8a5d105fbd9e",
   "metadata": {
    "editable": true,
    "slideshow": {
     "slide_type": ""
    },
    "tags": []
   },
   "outputs": [
    {
     "data": {
      "text/plain": [
       "'AAAA'"
      ]
     },
     "execution_count": 11,
     "metadata": {},
     "output_type": "execute_result"
    }
   ],
   "source": [
    "\"A\" * 4 # string manipulation (return string)"
   ]
  },
  {
   "cell_type": "code",
   "execution_count": 25,
   "id": "f072335a-f2e4-4ec2-bc8e-2ad134cae8eb",
   "metadata": {
    "editable": true,
    "slideshow": {
     "slide_type": ""
    },
    "tags": []
   },
   "outputs": [
    {
     "data": {
      "text/plain": [
       "'ABB'"
      ]
     },
     "execution_count": 25,
     "metadata": {},
     "output_type": "execute_result"
    }
   ],
   "source": [
    "\"A\" + \"B\" * 2 # string manipulation (return string)\n",
    "# \"Rule of Prescedence\""
   ]
  },
  {
   "cell_type": "markdown",
   "id": "9a656a25-477c-44d6-b8d2-96899a72026c",
   "metadata": {
    "editable": false,
    "slideshow": {
     "slide_type": ""
    },
    "tags": []
   },
   "source": [
    "Questions:\n",
    "\n",
    "- What is the **data type** that each expression returns?\n",
    "- Why do `7/2` and `7//2` return different results?\n",
    "- How do arithmetic operators work on strings?\n",
    "\n",
    "As a quick reference `+`, `-`, `/`, `//`, `*`, `**`, etc. are called **operators** and the parameters they operate on are called **operands**, e.g., in `3 + 5`, `+` is the operator and `3` and `5` are the operands.\n",
    "\n",
    "**Variables** are named locations in the memory, i.e., they store values under a name, kind of like a labeled box, where the label is the variable name and the content of the box is the value. You can imagine how this mechanism would make life easier for the programmer and allow for the implementation of more complex logic.\n",
    "\n",
    "The assignment operator `=` is used to create and assign values to variables."
   ]
  },
  {
   "cell_type": "code",
   "execution_count": 26,
   "id": "e59ab664-b2eb-43f7-9f7d-8dee36344618",
   "metadata": {
    "editable": true,
    "slideshow": {
     "slide_type": ""
    },
    "tags": []
   },
   "outputs": [
    {
     "name": "stdout",
     "output_type": "stream",
     "text": [
      "6\n",
      "5\n"
     ]
    }
   ],
   "source": [
    "x = 3 # saving integer is cost for 4 until 8 bytes\n",
    "y = x + 2\n",
    "x = y + 1\n",
    "print(x)\n",
    "print(y)"
   ]
  },
  {
   "cell_type": "markdown",
   "id": "be201dde-c328-4eae-9f7c-f9fa80ef5c7e",
   "metadata": {
    "editable": false,
    "slideshow": {
     "slide_type": ""
    },
    "tags": []
   },
   "source": [
    "Note how executing `x = 3` does not print anything to the screen. This is because `x = 3` is **not** an expression, i.e., it does not evaluate to a value. Note how the `print` function is used to output the results to the standard output.\n",
    "\n",
    "`x = 3` is a **statement**, in particular and assignment statement. Statements are synthetic units that perform an action or control operation.\n",
    "\n",
    "Standalone expressions such as `3 + 5` are also referred to as **expression statements**.\n",
    "\n",
    "The **data type** of a variable is an important aspect to pay attention to and can often help clarify mystifying behavior, e.g., can you explain the output of the following cell?"
   ]
  },
  {
   "cell_type": "code",
   "execution_count": 19,
   "id": "12d7dc6d-8bca-4d5b-b858-488651e8ba99",
   "metadata": {
    "editable": true,
    "slideshow": {
     "slide_type": ""
    },
    "tags": []
   },
   "outputs": [
    {
     "name": "stdout",
     "output_type": "stream",
     "text": [
      "6\n",
      "33\n"
     ]
    }
   ],
   "source": [
    "x = 3  # Define integer \n",
    "y = \"3\" # Define string\n",
    "print(x * 2) # Mathematical sequence\n",
    "print(y * 2) # String operation"
   ]
  },
  {
   "cell_type": "markdown",
   "id": "aed5966a-8465-42cb-a4b7-8d166529fddb",
   "metadata": {
    "editable": false,
    "slideshow": {
     "slide_type": ""
    },
    "tags": []
   },
   "source": [
    "Another important distinction is the difference between the assignment operator `=` and the comparison operator `==`. One caveat to keep in mind in this regard is floating point comparison, which should not be done directly and instead using a tolerance, see [here](https://en.wikipedia.org/wiki/Floating-point_arithmetic) for more details.\n",
    "\n",
    "Try to guess the output of the following cells before executing them."
   ]
  },
  {
   "cell_type": "code",
   "execution_count": 16,
   "id": "f5ad5bbc-ee23-40d8-804e-147df983be44",
   "metadata": {
    "editable": true,
    "slideshow": {
     "slide_type": ""
    },
    "tags": []
   },
   "outputs": [
    {
     "name": "stdout",
     "output_type": "stream",
     "text": [
      "3\n"
     ]
    }
   ],
   "source": [
    "x = 3 # Value assignment\n",
    "print(x)"
   ]
  },
  {
   "cell_type": "code",
   "execution_count": 17,
   "id": "9e735351-8456-4b65-8ebe-2fb06db1cafb",
   "metadata": {
    "editable": true,
    "slideshow": {
     "slide_type": ""
    },
    "tags": []
   },
   "outputs": [
    {
     "data": {
      "text/plain": [
       "False"
      ]
     },
     "execution_count": 17,
     "metadata": {},
     "output_type": "execute_result"
    }
   ],
   "source": [
    "3 == 5 # Comparison value, this will return Boolean\n",
    "\"\"\"\n",
    "This one is called expression because it return something.\n",
    "\"\"\""
   ]
  },
  {
   "cell_type": "code",
   "execution_count": 18,
   "id": "77431547-70fb-4871-8937-d07c9828cd72",
   "metadata": {
    "editable": true,
    "slideshow": {
     "slide_type": ""
    },
    "tags": []
   },
   "outputs": [
    {
     "name": "stdout",
     "output_type": "stream",
     "text": [
      "False\n"
     ]
    }
   ],
   "source": [
    "x = 3 # Not expression\n",
    "y = 5 # Not expression\n",
    "print(x == y) # Is expression"
   ]
  },
  {
   "cell_type": "markdown",
   "id": "ebba4787-04d9-4fa3-88b6-ba4991a3fb35",
   "metadata": {
    "editable": false,
    "slideshow": {
     "slide_type": ""
    },
    "tags": []
   },
   "source": [
    "Now try to store `Hello World!` in a variable named `output` and print its content to the standard output."
   ]
  },
  {
   "cell_type": "code",
   "execution_count": 4,
   "id": "a238d696-382e-4342-9095-befa7a4d28ea",
   "metadata": {
    "editable": true,
    "slideshow": {
     "slide_type": ""
    },
    "tags": []
   },
   "outputs": [
    {
     "name": "stdout",
     "output_type": "stream",
     "text": [
      "Hello World!\n"
     ]
    }
   ],
   "source": [
    "\"\"\"\n",
    "Your task is to rewrite the hello-world program, this time using a variable to store \"Hello World!\"\n",
    "\"\"\";\n",
    "\n",
    "# Code here\n",
    "output = \"Hello World!\"\n",
    "print(output)"
   ]
  },
  {
   "cell_type": "markdown",
   "id": "3e547999-4071-4283-8e16-ca1a690f850b",
   "metadata": {
    "editable": false,
    "slideshow": {
     "slide_type": ""
    },
    "tags": []
   },
   "source": [
    "In addition to exporting results to an output, you can also receive input from the user of your program. The `input` function does this interactively from the standard input. Note, however, that oftentimes you may want to receive input from files for larger input data, which we will cover in the following weeks.\n",
    "\n",
    "For now, ask the user for their name, store it in a variable named `name` and print `Hello <name>` to the standard output."
   ]
  },
  {
   "cell_type": "code",
   "execution_count": 11,
   "id": "ef348620-4b5a-4c81-849b-376097a61ff5",
   "metadata": {
    "editable": true,
    "slideshow": {
     "slide_type": ""
    },
    "tags": []
   },
   "outputs": [
    {
     "name": "stdout",
     "output_type": "stream",
     "text": [
      "Hello Alif!\n"
     ]
    }
   ],
   "source": [
    "\"\"\"\n",
    "Your task is to rewrite the hello-world program, this time asking the user for their name and printing \"Hello <name>\" to the standard output.\n",
    "Use the input function as\n",
    "\n",
    "var = input(\"Your message\")\n",
    "\"\"\";\n",
    "\n",
    "# Code here\n",
    "def input(Name):\n",
    "    print(f\"Hello {Name}!\")\n",
    "var = input(\"Alif\")"
   ]
  },
  {
   "cell_type": "markdown",
   "id": "66b75cce-6364-490e-86ab-a3eac4ca1da8",
   "metadata": {
    "editable": false,
    "slideshow": {
     "slide_type": ""
    },
    "tags": []
   },
   "source": [
    "You should now be familiar with basic expressions and statements in Python as well as many of the most useful operators, use of variables, data types and input/output statements.\n",
    "\n",
    "A missing piece for the realization of more complex logic is **conditional statements**.\n",
    "\n",
    "A program oftentimes needs to make **decisions**—to do something only if a certain condition is met or do different things based on some conditions. This behavior is realized using conditional statements.\n",
    "\n",
    "A **condition** is an expression that can be evaluated to a **boolean** value, i.e., `True` or `False`.\n",
    "\n",
    "Conditional statements execute different parts of the code depending on the truth value of boolean expressions.\n",
    "\n",
    "Let's first see how these boolean expressions might look like. Try to predict the output of each cell before executing it."
   ]
  },
  {
   "cell_type": "code",
   "execution_count": 20,
   "id": "a2e95ddc-1c01-497e-8d78-358cbcde558b",
   "metadata": {
    "editable": true,
    "slideshow": {
     "slide_type": ""
    },
    "tags": []
   },
   "outputs": [
    {
     "data": {
      "text/plain": [
       "True"
      ]
     },
     "execution_count": 20,
     "metadata": {},
     "output_type": "execute_result"
    }
   ],
   "source": [
    "3 < 5"
   ]
  },
  {
   "cell_type": "code",
   "execution_count": 21,
   "id": "9b37154b-807a-4591-9ad4-4472fa4d261c",
   "metadata": {
    "editable": true,
    "slideshow": {
     "slide_type": ""
    },
    "tags": []
   },
   "outputs": [
    {
     "data": {
      "text/plain": [
       "True"
      ]
     },
     "execution_count": 21,
     "metadata": {},
     "output_type": "execute_result"
    }
   ],
   "source": [
    "10 == 2 * 5"
   ]
  },
  {
   "cell_type": "code",
   "execution_count": 22,
   "id": "fb5a025b-a856-4171-a060-582065b4485d",
   "metadata": {
    "editable": true,
    "slideshow": {
     "slide_type": ""
    },
    "tags": []
   },
   "outputs": [
    {
     "data": {
      "text/plain": [
       "True"
      ]
     },
     "execution_count": 22,
     "metadata": {},
     "output_type": "execute_result"
    }
   ],
   "source": [
    "7 != 8"
   ]
  },
  {
   "cell_type": "code",
   "execution_count": 23,
   "id": "b38fc68b-df46-415b-82f9-0ecb8ef7f4ed",
   "metadata": {
    "editable": true,
    "slideshow": {
     "slide_type": ""
    },
    "tags": []
   },
   "outputs": [
    {
     "data": {
      "text/plain": [
       "True"
      ]
     },
     "execution_count": 23,
     "metadata": {},
     "output_type": "execute_result"
    }
   ],
   "source": [
    "\"abc\" < \"abd\""
   ]
  },
  {
   "cell_type": "code",
   "execution_count": 24,
   "id": "18b27d84-582f-4666-88eb-6d29789e8896",
   "metadata": {
    "editable": true,
    "slideshow": {
     "slide_type": ""
    },
    "tags": []
   },
   "outputs": [
    {
     "data": {
      "text/plain": [
       "True"
      ]
     },
     "execution_count": 24,
     "metadata": {},
     "output_type": "execute_result"
    }
   ],
   "source": [
    "4 > 7 or 2 < 3"
   ]
  },
  {
   "cell_type": "code",
   "execution_count": 25,
   "id": "f7fd3d83-f2b9-4ed8-9ae5-850989d63d21",
   "metadata": {
    "editable": true,
    "slideshow": {
     "slide_type": ""
    },
    "tags": []
   },
   "outputs": [
    {
     "data": {
      "text/plain": [
       "False"
      ]
     },
     "execution_count": 25,
     "metadata": {},
     "output_type": "execute_result"
    }
   ],
   "source": [
    "4 > 7 and 2 < 3"
   ]
  },
  {
   "cell_type": "code",
   "execution_count": 26,
   "id": "7b3ad6f0-0eda-4afa-88ae-fbe96826ce80",
   "metadata": {
    "editable": true,
    "slideshow": {
     "slide_type": ""
    },
    "tags": []
   },
   "outputs": [
    {
     "data": {
      "text/plain": [
       "False"
      ]
     },
     "execution_count": 26,
     "metadata": {},
     "output_type": "execute_result"
    }
   ],
   "source": [
    "not (5 < 10)"
   ]
  },
  {
   "cell_type": "code",
   "execution_count": 27,
   "id": "7b3bd37d-c06d-446e-b4b1-302132cab081",
   "metadata": {
    "editable": true,
    "slideshow": {
     "slide_type": ""
    },
    "tags": []
   },
   "outputs": [
    {
     "data": {
      "text/plain": [
       "True"
      ]
     },
     "execution_count": 27,
     "metadata": {},
     "output_type": "execute_result"
    }
   ],
   "source": [
    "x = 10\n",
    "x < 100 and x >= 0"
   ]
  },
  {
   "cell_type": "markdown",
   "id": "8c5e0483-8950-4b43-bfb1-173cb46eb2f2",
   "metadata": {
    "editable": false,
    "slideshow": {
     "slide_type": ""
    },
    "tags": []
   },
   "source": [
    "As you can see a `boolean` value is either `True` or `False` and boolean expressions can be combined using logical operators `and`, `or` and `not` to construct more complex expressions.\n",
    "\n",
    "An `if` statement executes a block of code only if its condition is met, i.e., if it evaluates to `True`. Here's a most basic `if` statement:"
   ]
  },
  {
   "cell_type": "code",
   "execution_count": 13,
   "id": "61017d11-8da5-4af0-b3f9-a7247b7f6758",
   "metadata": {
    "editable": true,
    "slideshow": {
     "slide_type": ""
    },
    "tags": []
   },
   "outputs": [
    {
     "name": "stdout",
     "output_type": "stream",
     "text": [
      "This list always runs.\n"
     ]
    }
   ],
   "source": [
    "temperature = 10\n",
    "\n",
    "if temperature > 20:\n",
    "    print(\"It's warm today!\")\n",
    "\n",
    "print(\"This list always runs.\")"
   ]
  },
  {
   "cell_type": "markdown",
   "id": "38bc5c52-5844-4ace-85d3-a4a800c72a83",
   "metadata": {
    "editable": false,
    "slideshow": {
     "slide_type": ""
    },
    "tags": []
   },
   "source": [
    "Change the value of `temperature` to 10 and run it again. What do you observe? Why?\n",
    "\n",
    "An `if` statement can optionally be combined with (multiple) `elif` statements and at most one `else` statement."
   ]
  },
  {
   "cell_type": "code",
   "execution_count": 29,
   "id": "5a36a5cc-c3f9-46b4-8ee0-efa7a61c42fe",
   "metadata": {
    "editable": true,
    "slideshow": {
     "slide_type": ""
    },
    "tags": []
   },
   "outputs": [
    {
     "name": "stdout",
     "output_type": "stream",
     "text": [
      "Mild day.\n"
     ]
    }
   ],
   "source": [
    "temperature = 20\n",
    "\n",
    "if temperature > 20:\n",
    "    print(\"Warm day.\")\n",
    "elif temperature > 15:\n",
    "    print(\"Mild day.\")\n",
    "else:\n",
    "    print(\"Cold day.\")"
   ]
  },
  {
   "cell_type": "markdown",
   "id": "b834249a-a742-4d0d-b5e3-7d4043c9b0ac",
   "metadata": {
    "editable": false,
    "slideshow": {
     "slide_type": ""
    },
    "tags": []
   },
   "source": [
    "Note that the first condition that is true will be executed and the rest will be skipped! Therefore, **order matters**.\n",
    "\n",
    "As mentioned, the condition can be as simple or as complicated as long as it evaluates to a boolean.\n",
    "\n",
    "As a final touch try implementing the following program that combines the concepts above, remembering that floating point comparison is typically done using a tolerance."
   ]
  },
  {
   "cell_type": "code",
   "execution_count": 23,
   "id": "4e810b56-1b91-4f51-bc5b-a544f29b9a83",
   "metadata": {
    "editable": true,
    "slideshow": {
     "slide_type": ""
    },
    "tags": []
   },
   "outputs": [
    {
     "name": "stdout",
     "output_type": "stream",
     "text": [
      "Within tolerance\n"
     ]
    }
   ],
   "source": [
    "\"\"\"\n",
    "Your task is to get a floating point input from the user and compare it with a reference value. If they are within the given tolerance, print \"Within tolerance.\" Otherwise, print \"Out of tolerance.\"\n",
    "\n",
    "You can use the input function in combination with the float function as follows to receive an input from the user and convert it to a floating point value:\n",
    "var = float(input(\"Your message\"))\n",
    "\n",
    "abs(x) returns the absolute value of x.\n",
    "\"\"\";\n",
    "\n",
    "x_ref = 10.\n",
    "tolerance = 1e-5\n",
    "\n",
    "# Code here\n",
    "def input(x):\n",
    "    value = abs(x-x_ref)\n",
    "    if value < tolerance:\n",
    "        print(\"Within tolerance\")\n",
    "    else:\n",
    "        print(\"Out of tolerance\")\n",
    "\n",
    "var = input(10.00000001)"
   ]
  },
  {
   "cell_type": "markdown",
   "id": "bbf5537c-c16e-4801-9338-7f92b1ecc3c8",
   "metadata": {
    "editable": false,
    "slideshow": {
     "slide_type": ""
    },
    "tags": []
   },
   "source": [
    "## CFD\n",
    "\n",
    "Alright, now that you can print `Hello World!` to the screen, let's do some computational fluid dynamics (CFD), shall we? :)\n",
    "\n",
    "Viscoplastic fluids are a class of non-Newtonian fluids, whose most conspicuous characteristic is the non-differentiability of the constitutive law between the shear stress and shear rate on the one hand and in which the shear stress is zero below the yield stress on the other.\n",
    "\n",
    "The Bingham model is perhaps the simplest model for viscoplastic fluids and can be written as\n",
    "\n",
    "\\begin{equation}\n",
    "    \\begin{cases}\n",
    "    \\boldsymbol{\\tau} = 2 \\mu \\mathbf{D} + \\frac{\\mathbf{D}}{||\\mathbf{D}||} \\tau_{y} \\quad \\text{if} \\quad ||\\boldsymbol{\\tau}|| > \\tau_{y}, \\\\\n",
    "    \\mathbf{D} = 0 \\quad \\text{if} \\quad ||\\boldsymbol{\\tau}|| \\le \\tau_{y},\n",
    "    \\end{cases}\n",
    "\\end{equation}\n",
    "\n",
    "where $\\boldsymbol{\\tau}$ is the stress tensor, $\\mathbf{D} := \\frac{1}{2}(\\nabla \\mathbf{u} + \\nabla \\mathbf{u}^{T}$) denotes the rate-of-strain tensor, $\\mathbf{u}$ is the fluid velocity, $\\tau_{y}$ is the yield stress and $\\mu$ is the constant plastic viscosity. $||\\cdot||$ denotes the Euclidean norm defined as\n",
    "\n",
    "\\begin{equation}\n",
    "||\\boldsymbol{\\nu}|| := \\sqrt{\\frac{1}{2} \\sum_{i, j = 1}^{n} \\nu_{i,j}^{2}}\n",
    "\\end{equation}\n",
    "\n",
    "for an 2-dimensional tensor.\n",
    "\n",
    "To learn more about Bingham fluids, you can refer to the following [Wikipedia article](https://en.wikipedia.org/wiki/Bingham_plastic) although it is purely optional for the given task.\n",
    "\n",
    "Given a flow in 2 dimensions with a yield stress of $\\tau_{y} = 800$Pa and constant plastic viscosity of $\\mu = 20$Pa.s, where the velocity profile is defined as\n",
    "\n",
    "\\begin{equation}\n",
    "    \\mathbf{u} =\n",
    "    \\begin{bmatrix}\n",
    "        y^{2} - 1 \\\\\n",
    "        2x\n",
    "    \\end{bmatrix} \\text{m/s},\n",
    "\\end{equation}\n",
    "\n",
    "write a Python code that computes the rate-of-strain tensor $\\mathbf{D}$ and the stress tensor $\\boldsymbol{\\tau}$ at the point $\\mathbf{X}_{0} = \\begin{pmatrix} 0.5 \\text{m} \\\\ 1.0 \\text{m} \\end{pmatrix}$ and print the results to the standard output.\n",
    "\n",
    "If this is testing your math knowledge, remember that the gradient of a vector $\\mathbf{v} := \\begin{pmatrix} v_{1} \\\\ v_{2} \\end{pmatrix}$ is simply $\\nabla \\mathbf{v} := \\begin{pmatrix} \\frac{\\partial v_{1}}{\\partial x} & \\frac{\\partial v_{2}}{\\partial x} \\\\ \\frac{\\partial v_{1}}{\\partial y} & \\frac{\\partial v_{2}}{\\partial y} \\end{pmatrix}$ and $\\nabla \\mathbf{v}^{T}$ is just its transpose.\n",
    "\n",
    "### Hint\n",
    "\n",
    "- Note that the Bingham model is discontinuous, making it difficult to use in this form computationally; however, for the current task, it suffices to compute the stress tensor and controlling its norm against the yield stress\n",
    "- Store the individual elements of a rank-1 tensor/vector $\\mathbf{v} := \\begin{pmatrix} v_{1} \\\\ v_{2} \\end{pmatrix}$ in two variables `v1` and `v2`, and store the elements of a rank-2 tensor/matrix $\\boldsymbol{\\nu} := \\begin{pmatrix} \\nu_{11} & \\nu_{12} \\\\ \\nu_{21} & \\nu_{22} \\end{pmatrix}$ in variables `nu11`, `nu12`, ...\n",
    "- In order to compute the stress tensor $\\boldsymbol{\\tau}$, you need to compute the rate-of-strain tensor $\\mathbf{D}$ first, which in turn is a function of the velocity gradient and its transpose. Note that the velocity profile is given."
   ]
  },
  {
   "cell_type": "code",
   "execution_count": 46,
   "id": "4024915c-7254-49d4-b225-6d10004a382d",
   "metadata": {
    "editable": true,
    "slideshow": {
     "slide_type": ""
    },
    "tags": []
   },
   "outputs": [
    {
     "name": "stdout",
     "output_type": "stream",
     "text": [
      "856.5685424949237\n"
     ]
    }
   ],
   "source": [
    "\"\"\"\n",
    "Your task is to compute the stress tensor as well as other intermediate entities such as the rate-of-strain tensor according to the Bingham model.\n",
    "The code should print something along the lines of\n",
    "x = ...\n",
    "u = ...\n",
    "D = ...\n",
    "tau = ...\n",
    "in a well formatted manner.\n",
    "\"\"\";\n",
    "# Present it\n",
    "import math\n",
    "\n",
    "# math.sqrt(x) computes the square root of x\n",
    "\n",
    "# Code here\n",
    "# Define X0\n",
    "x_1 = 0.5\n",
    "x_2 = 1.0\n",
    "\n",
    "# Define the variable\n",
    "miu = 20\n",
    "T_y = 800\n",
    "\n",
    "# Define U0\n",
    "u_1 = y**2 - 1\n",
    "u_2 = 2*x\n",
    "\n",
    "# Define D as in the relation with the gradient of u manually\n",
    "# Diferentiate manually\n",
    "D_11 = 1/2 * (0 + 0)\n",
    "D_12 = 1/2 * (2 + 2*y)\n",
    "D_21 = 1/2 * (2*y + 2)\n",
    "D_22 = 1/2 * (0 + 0)\n",
    "\n",
    "# Redefine the value\n",
    "x = x_1\n",
    "y = x_2\n",
    "\n",
    "# Calculate ||D||\n",
    "D_norm = math.sqrt(1/2*(D_11 + D_12 + D_21 + D_22))\n",
    "\n",
    "# Calculate the tau, in manual sense\n",
    "T_11 = 2*miu*D_11 + D_11/D_norm*T_y\n",
    "T_12 = 2*miu*D_12 + D_12/D_norm*T_y\n",
    "T_21 = 2*miu*D_21 + D_21/D_norm*T_y\n",
    "T_22 = 2*miu*D_22 + D_22/D_norm*T_y\n",
    "\n",
    "# Calculate norm of T\n",
    "T_norm = math.sqrt(1/2*(T_11 + T_12 * T_21 + T_22))\n",
    "\n",
    "# Use the loop command to check the value\n",
    "if T_norm >  T_y:\n",
    "    New_T = T_norm\n",
    "elif T_norm <= T_y:\n",
    "    New_T = 0\n",
    "\n",
    "print(New_T)"
   ]
  },
  {
   "cell_type": "markdown",
   "id": "6c776708-acc8-4b7e-a6a7-dd62c6d64f8f",
   "metadata": {
    "editable": false,
    "slideshow": {
     "slide_type": ""
    },
    "tags": []
   },
   "source": [
    "### Regularized Bingham model\n",
    "\n",
    "The main issue with the original Bingham model above is the fact that regions below the yield stress are undetermined. Try to verify for yourself that the equation breaks down when the rate-of-strain tensor approaches zero.\n",
    "\n",
    "Without going into too much detail, let us introduce an alternative approach from the so-called regularization class of solutions, in which the Bingham model is modified as follows:\n",
    "\n",
    "\\begin{equation}\n",
    "\\boldsymbol{\\tau} =\n",
    "    \\begin{cases}\n",
    "    2 \\tilde{\\mu} \\mathbf{D} \\quad \\text{if} \\quad ||\\mathbf{D}|| \\le \\dot{\\gamma_{c}}, \\\\\n",
    "    2 \\mu \\mathbf{D} + \\frac{\\mathbf{D}}{||\\mathbf{D}||} \\tau_{y} \\quad \\text{if} \\quad ||\\mathbf{D}|| > \\dot{\\gamma_{c}},\n",
    "    \\end{cases}\n",
    "\\end{equation}\n",
    "\n",
    "where $\\dot{\\gamma_{c}}$ is the critical shear rate, chosen to be sufficiently small, and $\\tilde{\\mu}$ is a second viscosity chosen to be as high as possible. We use $\\tilde{\\mu} := \\mu + \\frac{\\tau_{y}}{\\varepsilon}$ here, where $\\varepsilon$ is the regularization parameter.\n",
    "\n",
    "As you may have guessed, your task is now to write a Python code that computes the stress tensor according to the regularized model above for the same velocity profile and at the same point. Assume that $\\dot{\\gamma_{c}} = 0.5$ and $\\varepsilon = 10^{-3}$."
   ]
  },
  {
   "cell_type": "code",
   "execution_count": 21,
   "id": "bfad0793-9d8a-41ae-ae81-6d1982176751",
   "metadata": {
    "editable": true,
    "slideshow": {
     "slide_type": ""
    },
    "tags": []
   },
   "outputs": [
    {
     "name": "stdout",
     "output_type": "stream",
     "text": [
      "Second Case!\n",
      "\n",
      "\n",
      "My Matrix component:\n",
      "[[   0.        1211.3708499]\n",
      " [1211.3708499    0.       ]]\n"
     ]
    }
   ],
   "source": [
    "\"\"\"\n",
    "Your task is compute the stress tensor according to the regularized Bingham model above.\n",
    "The code should print something along the lines of\n",
    "x = ...\n",
    "u = ...\n",
    "D = ...\n",
    "tau = ...\n",
    "in a well formatted manner.\n",
    "\"\"\";\n",
    "import math\n",
    "import numpy as np\n",
    "\n",
    "# Code here\n",
    "# Define x0\n",
    "x_1 = 0.5\n",
    "x_2 = 1.0\n",
    "\n",
    "# Redefine the value\n",
    "x = x_1\n",
    "y = x_2\n",
    "\n",
    "# Define the variable\n",
    "miu = 20\n",
    "T_y = 800\n",
    "g_dot = 0.5\n",
    "eps = 10**(-3) # Error value\n",
    "\n",
    "# Define U0\n",
    "u_1 = y**2 - 1\n",
    "u_2 = 2*x\n",
    "\n",
    "# Define D as in the relation with the gradient of u manually\n",
    "# Diferentiate manually\n",
    "D_11 = 1/2 * (0 + 0)\n",
    "D_12 = 1/2 * (2 + 2*y)\n",
    "D_21 = 1/2 * (2*y + 2)\n",
    "D_22 = 1/2 * (0 + 0)\n",
    "\n",
    "# Calculate ||D||\n",
    "D_norm = math.sqrt(1/2*(D_11 + D_12 + D_21 + D_22))\n",
    "\n",
    "# Calculate the additional miu bar\n",
    "miu_bar = miu + T_y/eps\n",
    "\n",
    "# Check ||D|| with gamma dot c\n",
    "if D_norm <= g_dot:\n",
    "    print(\"First Case!\")\n",
    "    print(\"\\n\")\n",
    "    T_11 = 2*miu_bar*D_11\n",
    "    T_12 = 2*miu_bar*D_12\n",
    "    T_21 = 2*miu_bar*D_21\n",
    "    T_22 = 2*miu_bar*D_22\n",
    "    T = np.matrix([[T_11, T_12], [T_21, T_22]])\n",
    "    print(\"My Matrix component:\")\n",
    "    print(T)\n",
    "    \n",
    "elif D_norm > g_dot:\n",
    "    print(\"Second Case!\")\n",
    "    print(\"\\n\")\n",
    "    T_11 = 2*miu*D_11 + D_11/D_norm*T_y\n",
    "    T_12 = 2*miu*D_12 + D_12/D_norm*T_y\n",
    "    T_21 = 2*miu*D_21 + D_21/D_norm*T_y\n",
    "    T_22 = 2*miu*D_22 + D_22/D_norm*T_y\n",
    "    T = np.matrix([[T_11, T_12], [T_21, T_22]])\n",
    "    print(\"My Matrix component:\")\n",
    "    print(T)\n"
   ]
  },
  {
   "cell_type": "markdown",
   "id": "adf05614-a82f-4f02-9c5a-c1703e15af2a",
   "metadata": {
    "editable": false,
    "slideshow": {
     "slide_type": ""
    },
    "tags": []
   },
   "source": [
    "## Homework\n",
    "\n",
    "Imagine now that instead of one point you need to start from $\\mathbf{x}_{0}$ and compute $\\mathbf{D}$ and $\\boldsymbol{\\tau}$ at intervals of $\\Delta \\theta = \\frac{\\pi}{6}$ along a circle with unit radius whose center lies at the origin.\n",
    "\n",
    "Write a Python code that computes the stress tensor along with other desired entities such as the rate-of-strain tensor, etc. according to the regularized Bingham model and prints them to the standard output using the code from the previous exercise."
   ]
  },
  {
   "cell_type": "code",
   "execution_count": 75,
   "id": "d37f03a1-06c2-4f28-8901-837931786b1c",
   "metadata": {
    "editable": true,
    "slideshow": {
     "slide_type": ""
    },
    "tags": []
   },
   "outputs": [
    {
     "data": {
      "application/vnd.plotly.v1+json": {
       "config": {
        "plotlyServerURL": "https://plot.ly"
       },
       "data": [
        {
         "hovertemplate": "Angle=%{x}<br>Stress Tensor=%{y}<extra></extra>",
         "legendgroup": "",
         "line": {
          "color": "#636efa",
          "dash": "solid"
         },
         "marker": {
          "symbol": "circle"
         },
         "mode": "lines",
         "name": "",
         "orientation": "v",
         "showlegend": false,
         "type": "scatter",
         "x": [
          1,
          2,
          3,
          4,
          5,
          6,
          7,
          8,
          9,
          10,
          11,
          12,
          12.999999999999998,
          14,
          15,
          16,
          17,
          18,
          19,
          20,
          21,
          22,
          23,
          24,
          25,
          25.999999999999996,
          27,
          28,
          29.000000000000004,
          30,
          31,
          32,
          33,
          34,
          35,
          36,
          37,
          38,
          39,
          40,
          41,
          42,
          43,
          44,
          45,
          46,
          47,
          48,
          48.99999999999999,
          50,
          51,
          51.99999999999999,
          53,
          54,
          55.00000000000001,
          56,
          57,
          58.00000000000001,
          59,
          60,
          61,
          62,
          62.99999999999999,
          64,
          65,
          66,
          67,
          68,
          69,
          70,
          71,
          72,
          73,
          74,
          75,
          76,
          77,
          78,
          79,
          80,
          81,
          82,
          83,
          84,
          85,
          86,
          87,
          88,
          89,
          90,
          91,
          92,
          93.00000000000001,
          94,
          95,
          96,
          97,
          97.99999999999999,
          99.00000000000001,
          100,
          101,
          102,
          103,
          103.99999999999999,
          105,
          106,
          107,
          108,
          108.99999999999999,
          110.00000000000001,
          111,
          112,
          113,
          114,
          114.99999999999999,
          116.00000000000001,
          117,
          118,
          119,
          120,
          121.00000000000001,
          122,
          123,
          124,
          125,
          125.99999999999999,
          127.00000000000001,
          128,
          129,
          130,
          131,
          132,
          133,
          134,
          135,
          136,
          137,
          138,
          139,
          140,
          141,
          142,
          143,
          144,
          145,
          146,
          147,
          148,
          149,
          150,
          151,
          152,
          153,
          154,
          155,
          156,
          157,
          158,
          159,
          160,
          161,
          162,
          163,
          164,
          165,
          166,
          167,
          168,
          169,
          170,
          171,
          172,
          173,
          174,
          175,
          176,
          177,
          178,
          179,
          180,
          181,
          182,
          183,
          184,
          184.99999999999997,
          186.00000000000003,
          187.00000000000003,
          188,
          189,
          190,
          191,
          192,
          193,
          194,
          195,
          195.99999999999997,
          197.00000000000003,
          198.00000000000003,
          199,
          200,
          201,
          202,
          203,
          204,
          205,
          206,
          206.99999999999997,
          207.99999999999997,
          209.00000000000003,
          210,
          211,
          212,
          213,
          214,
          215,
          216,
          217,
          217.99999999999997,
          218.99999999999997,
          220.00000000000003,
          221,
          222,
          223,
          224,
          225,
          226,
          227,
          228,
          229,
          229.99999999999997,
          231.00000000000003,
          232.00000000000003,
          233,
          234,
          235,
          236,
          237,
          238,
          239,
          240,
          240.99999999999997,
          242.00000000000003,
          243.00000000000003,
          244,
          245,
          246,
          247,
          248,
          249,
          250,
          251,
          251.99999999999997,
          252.99999999999997,
          254.00000000000003,
          255,
          256,
          257,
          258,
          259,
          260,
          261,
          262,
          263,
          264,
          265,
          266,
          267,
          268,
          269,
          270,
          271,
          272,
          273,
          274,
          275,
          276,
          277,
          278,
          279,
          280,
          281,
          282,
          283,
          284,
          285,
          286,
          287,
          288,
          289,
          290,
          291,
          292,
          293,
          294,
          295,
          296,
          297,
          298,
          299,
          300,
          301,
          302,
          303,
          304,
          305,
          306,
          307,
          308,
          309,
          310,
          311,
          312,
          313,
          314,
          315,
          316,
          317,
          318,
          319,
          320,
          321,
          322,
          323,
          324,
          325,
          326,
          327,
          328,
          329,
          330,
          331,
          332,
          333,
          334,
          335,
          336,
          337,
          338,
          339,
          340,
          341,
          342,
          343,
          344,
          345,
          346,
          347,
          348,
          349,
          350,
          351,
          352,
          353,
          354,
          355,
          356,
          357,
          358,
          359,
          360,
          361,
          362,
          363,
          364,
          365,
          366,
          367,
          368,
          368.99999999999994,
          369.99999999999994,
          370.99999999999994,
          372.00000000000006,
          373.00000000000006,
          374.00000000000006,
          375,
          376,
          377,
          378,
          379,
          380,
          381,
          382,
          383,
          384,
          385,
          386,
          387,
          388,
          389,
          390,
          390.99999999999994,
          391.99999999999994,
          392.99999999999994,
          394.00000000000006,
          395.00000000000006,
          396.00000000000006,
          397,
          398,
          399
         ],
         "xaxis": "x",
         "y": [
          42.71547317461643,
          43.43058007128739,
          44.14510679628461,
          44.858839597208195,
          45.571564927800715,
          46.283069512701175,
          46.993140412119345,
          47.70156508641052,
          48.40813146053119,
          49.11262798835602,
          49.8148437168366,
          50.514568349982234,
          51.21159231264359,
          51.90570681407965,
          52.59670391128855,
          53.28437657208323,
          53.96851873789252,
          54.64892538626864,
          55.325392593082086,
          55.99771759438502,
          56.66569884792422,
          57.3291360942849,
          57.987830417647,
          58.64158430613514,
          59.290201711744054,
          59.93348810982129,
          60.571250558089034,
          61.20329775518696,
          61.82944009871858,
          62.44948974278318,
          63.06326065497593,
          63.67056867283883,
          64.27123155974532,
          64.86506906020142,
          65.45190295454684,
          66.03155711303913,
          66.60385754930452,
          67.16863247313928,
          67.7257123426454,
          68.27492991568472,
          68.81612030063602,
          69.34912100643935,
          69.87377199191259,
          70.38991571432528,
          70.89739717721466,
          71.39606397742948,
          71.88576635138756,
          72.36635722053256,
          72.83769223597645,
          73.29962982231382,
          73.75203122059514,
          74.19476053044536,
          74.62768475131537,
          75.05067382285372,
          75.46360066438618,
          75.8663412134913,
          76.25877446366012,
          76.64078250102851,
          77.01225054017122,
          77.37306695894642,
          77.7231233323803,
          78.06231446558141,
          78.39053842567479,
          78.70769657274595,
          79.01369358978542,
          79.30843751162493,
          79.59183975285607,
          79.86381513472308,
          80.12428191098176,
          80.37316179271642,
          80.61037997210718,
          80.83586514514099,
          81.04954953325854,
          81.25136890393144,
          81.44126259016264,
          81.61917350890461,
          81.78504817838949,
          81.93883673436585,
          82.08049294523754,
          82.20997422609936,
          82.32724165166594,
          82.43225996808937,
          82.52499760366237,
          82.60542667840343,
          82.6735230125214,
          82.72926613375631,
          82.77263928359504,
          82.80362942235912,
          82.82222723316372,
          82.82842712474618,
          82.82222723316372,
          82.80362942235912,
          82.77263928359504,
          82.72926613375631,
          82.6735230125214,
          82.60542667840343,
          82.52499760366237,
          82.43225996808937,
          82.32724165166594,
          82.20997422609936,
          82.08049294523754,
          81.93883673436585,
          81.78504817838949,
          81.61917350890461,
          81.44126259016264,
          81.25136890393144,
          81.04954953325854,
          80.83586514514099,
          80.6103799721072,
          80.37316179271642,
          80.12428191098176,
          79.86381513472308,
          79.59183975285607,
          79.30843751162494,
          79.01369358978542,
          78.70769657274593,
          78.39053842567479,
          78.06231446558141,
          77.7231233323803,
          77.37306695894644,
          77.01225054017122,
          76.64078250102851,
          76.25877446366012,
          75.8663412134913,
          75.46360066438618,
          75.05067382285372,
          74.62768475131537,
          74.19476053044538,
          73.75203122059514,
          73.29962982231382,
          72.83769223597646,
          72.36635722053258,
          71.88576635138756,
          71.39606397742948,
          70.89739717721466,
          70.3899157143253,
          69.87377199191259,
          69.34912100643933,
          68.81612030063602,
          68.27492991568472,
          67.7257123426454,
          67.16863247313928,
          66.60385754930454,
          66.03155711303914,
          65.45190295454684,
          64.86506906020142,
          64.27123155974533,
          63.67056867283883,
          63.06326065497593,
          62.44948974278318,
          61.829440098718585,
          61.20329775518696,
          60.571250558089034,
          59.933488109821305,
          59.290201711744054,
          58.64158430613514,
          57.98783041764701,
          57.329136094284905,
          56.66569884792423,
          55.99771759438504,
          55.32539259308208,
          54.64892538626864,
          53.96851873789254,
          53.28437657208323,
          52.59670391128856,
          51.90570681407965,
          51.2115923126436,
          50.514568349982234,
          49.81484371683661,
          49.11262798835604,
          48.40813146053119,
          47.70156508641052,
          46.99314041211936,
          46.28306951270118,
          45.571564927800715,
          44.85883959720822,
          44.14510679628462,
          43.430580071287395,
          42.71547317461643,
          42.00000000000001,
          41.284374517640266,
          40.56881070933818,
          39.853522503617626,
          39.13872371086819,
          38.42462795852673,
          37.711448626317114,
          36.99939878156811,
          36.28869111462878,
          35.57953787440133,
          34.87215080401096,
          34.16674107663212,
          33.46351923149088,
          32.762695110062765,
          32.064477792485654,
          31.369075534206708,
          30.676695702883062,
          29.987544715555142,
          29.30182797611191,
          28.61974981306684,
          27.94151341766381,
          27.267320782331595,
          26.59737263950576,
          25.931868400836322,
          25.2710060968001,
          24.61498231673569,
          23.963992149319658,
          23.31822912350169,
          22.67788514991704,
          22.04315046279384,
          21.414213562373092,
          20.791261157858564,
          20.17447811091445,
          19.56404737972746,
          18.960149963650732,
          18.362964848446072,
          17.772668952141494,
          17.18943707152029,
          16.613441829258008,
          16.044853621723323,
          15.483840567458909,
          14.930568456357566,
          14.385200699549474,
          13.84789828001552,
          13.31881970394186,
          12.798120952830496,
          12.285955436380299,
          11.782473946152937,
          11.287824610037841,
          990.9732959000024,
          945.1804497993293,
          900.3303157138366,
          856.4365554288427,
          813.512539408937,
          771.5713427252127,
          730.625741072474,
          690.6882068776328,
          651.7709055004864,
          613.8856915280392,
          577.0441051634671,
          541.2573687108685,
          506.5363831568421,
          472.891724849935,
          440.33364227899415,
          408.8720529513661,
          378.51654037193333,
          349.276351123892,
          321.16039205214133,
          294.1772275501793,
          268.3350769513054,
          243.64181202493086,
          220.10495457875993,
          197.73167416757974,
          176.5287859093373,
          156.5027484091912,
          137.65966179216403,
          120.00526584497425,
          103.54493826765005,
          88.28369303542547,
          74.22617887143754,
          61.3766778306796,
          49.73910399564386,
          39.31700228405619,
          30.113547369059187,
          22.131542712175907,
          15.373419709347997,
          9.841236950310241,
          5.536679591521265,
          2.461058842853121,
          0.6153115681792709,
          0,
          0.6153115681792709,
          2.461058842853121,
          5.536679591521265,
          9.841236950309792,
          15.373419709347997,
          22.131542712175907,
          30.113547369059187,
          39.31700228405574,
          49.739103995643404,
          61.37667783067915,
          74.22617887143709,
          88.28369303542547,
          103.54493826764961,
          120.0052658449738,
          137.65966179216358,
          156.5027484091912,
          176.52878590933685,
          197.73167416757929,
          220.1049545787595,
          243.6418120249304,
          268.335076951305,
          294.1772275501788,
          321.1603920521404,
          349.27635112389163,
          378.51654037193293,
          408.87205295136516,
          440.33364227899324,
          472.8917248499345,
          506.5363831568417,
          541.257368710868,
          577.0441051634662,
          613.8856915280387,
          651.7709055004859,
          690.6882068776318,
          730.6257410724731,
          771.5713427252118,
          813.512539408936,
          856.4365554288418,
          900.3303157138357,
          945.1804497993284,
          990.9732959000002,
          11.287824610037841,
          11.782473946152942,
          12.28595543638029,
          12.798120952830487,
          13.318819703941845,
          13.847898280015496,
          14.38520069954945,
          14.930568456357566,
          15.483840567458895,
          16.044853621723327,
          16.613441829257994,
          17.189437071520285,
          17.772668952141476,
          18.362964848446047,
          18.960149963650704,
          19.564047379727462,
          20.17447811091444,
          20.79126115785855,
          21.414213562373078,
          22.043150462793825,
          22.677885149917028,
          23.318229123501666,
          23.963992149319626,
          24.61498231673569,
          25.271006096800086,
          25.93186840083631,
          26.597372639505743,
          27.267320782331588,
          27.941513417663778,
          28.61974981306684,
          29.30182797611191,
          29.987544715555124,
          30.676695702883055,
          31.369075534206686,
          32.06447779248563,
          32.76269511006275,
          33.46351923149085,
          34.16674107663213,
          34.87215080401096,
          35.579537874401325,
          36.28869111462876,
          36.9993987815681,
          37.711448626317086,
          38.42462795852671,
          39.13872371086816,
          39.853522503617626,
          40.56881070933818,
          41.28437451764025,
          41.99999999999999,
          42.715473174616406,
          43.43058007128736,
          44.14510679628458,
          44.858839597208195,
          45.57156492780071,
          46.28306951270115,
          46.99314041211932,
          47.70156508641048,
          48.40813146053114,
          49.112627988356,
          49.81484371683657,
          50.514568349982234,
          51.21159231264362,
          51.90570681407967,
          52.59670391128857,
          53.28437657208325,
          53.96851873789252,
          54.64892538626863,
          55.325392593082064,
          55.99771759438504,
          56.66569884792422,
          57.3291360942849,
          57.98783041764699,
          58.641584306135115,
          59.29020171174402,
          59.93348810982129,
          60.57125055808903,
          61.20329775518694,
          61.82944009871855,
          62.44948974278315,
          63.0632606549759,
          63.67056867283878,
          64.27123155974529,
          64.86506906020142,
          65.45190295454684,
          66.03155711303914,
          66.60385754930454,
          67.16863247313928,
          67.7257123426454
         ],
         "yaxis": "y"
        }
       ],
       "layout": {
        "autosize": true,
        "legend": {
         "tracegroupgap": 0
        },
        "template": {
         "data": {
          "bar": [
           {
            "error_x": {
             "color": "#2a3f5f"
            },
            "error_y": {
             "color": "#2a3f5f"
            },
            "marker": {
             "line": {
              "color": "#E5ECF6",
              "width": 0.5
             },
             "pattern": {
              "fillmode": "overlay",
              "size": 10,
              "solidity": 0.2
             }
            },
            "type": "bar"
           }
          ],
          "barpolar": [
           {
            "marker": {
             "line": {
              "color": "#E5ECF6",
              "width": 0.5
             },
             "pattern": {
              "fillmode": "overlay",
              "size": 10,
              "solidity": 0.2
             }
            },
            "type": "barpolar"
           }
          ],
          "carpet": [
           {
            "aaxis": {
             "endlinecolor": "#2a3f5f",
             "gridcolor": "white",
             "linecolor": "white",
             "minorgridcolor": "white",
             "startlinecolor": "#2a3f5f"
            },
            "baxis": {
             "endlinecolor": "#2a3f5f",
             "gridcolor": "white",
             "linecolor": "white",
             "minorgridcolor": "white",
             "startlinecolor": "#2a3f5f"
            },
            "type": "carpet"
           }
          ],
          "choropleth": [
           {
            "colorbar": {
             "outlinewidth": 0,
             "ticks": ""
            },
            "type": "choropleth"
           }
          ],
          "contour": [
           {
            "colorbar": {
             "outlinewidth": 0,
             "ticks": ""
            },
            "colorscale": [
             [
              0,
              "#0d0887"
             ],
             [
              0.1111111111111111,
              "#46039f"
             ],
             [
              0.2222222222222222,
              "#7201a8"
             ],
             [
              0.3333333333333333,
              "#9c179e"
             ],
             [
              0.4444444444444444,
              "#bd3786"
             ],
             [
              0.5555555555555556,
              "#d8576b"
             ],
             [
              0.6666666666666666,
              "#ed7953"
             ],
             [
              0.7777777777777778,
              "#fb9f3a"
             ],
             [
              0.8888888888888888,
              "#fdca26"
             ],
             [
              1,
              "#f0f921"
             ]
            ],
            "type": "contour"
           }
          ],
          "contourcarpet": [
           {
            "colorbar": {
             "outlinewidth": 0,
             "ticks": ""
            },
            "type": "contourcarpet"
           }
          ],
          "heatmap": [
           {
            "colorbar": {
             "outlinewidth": 0,
             "ticks": ""
            },
            "colorscale": [
             [
              0,
              "#0d0887"
             ],
             [
              0.1111111111111111,
              "#46039f"
             ],
             [
              0.2222222222222222,
              "#7201a8"
             ],
             [
              0.3333333333333333,
              "#9c179e"
             ],
             [
              0.4444444444444444,
              "#bd3786"
             ],
             [
              0.5555555555555556,
              "#d8576b"
             ],
             [
              0.6666666666666666,
              "#ed7953"
             ],
             [
              0.7777777777777778,
              "#fb9f3a"
             ],
             [
              0.8888888888888888,
              "#fdca26"
             ],
             [
              1,
              "#f0f921"
             ]
            ],
            "type": "heatmap"
           }
          ],
          "heatmapgl": [
           {
            "colorbar": {
             "outlinewidth": 0,
             "ticks": ""
            },
            "colorscale": [
             [
              0,
              "#0d0887"
             ],
             [
              0.1111111111111111,
              "#46039f"
             ],
             [
              0.2222222222222222,
              "#7201a8"
             ],
             [
              0.3333333333333333,
              "#9c179e"
             ],
             [
              0.4444444444444444,
              "#bd3786"
             ],
             [
              0.5555555555555556,
              "#d8576b"
             ],
             [
              0.6666666666666666,
              "#ed7953"
             ],
             [
              0.7777777777777778,
              "#fb9f3a"
             ],
             [
              0.8888888888888888,
              "#fdca26"
             ],
             [
              1,
              "#f0f921"
             ]
            ],
            "type": "heatmapgl"
           }
          ],
          "histogram": [
           {
            "marker": {
             "pattern": {
              "fillmode": "overlay",
              "size": 10,
              "solidity": 0.2
             }
            },
            "type": "histogram"
           }
          ],
          "histogram2d": [
           {
            "colorbar": {
             "outlinewidth": 0,
             "ticks": ""
            },
            "colorscale": [
             [
              0,
              "#0d0887"
             ],
             [
              0.1111111111111111,
              "#46039f"
             ],
             [
              0.2222222222222222,
              "#7201a8"
             ],
             [
              0.3333333333333333,
              "#9c179e"
             ],
             [
              0.4444444444444444,
              "#bd3786"
             ],
             [
              0.5555555555555556,
              "#d8576b"
             ],
             [
              0.6666666666666666,
              "#ed7953"
             ],
             [
              0.7777777777777778,
              "#fb9f3a"
             ],
             [
              0.8888888888888888,
              "#fdca26"
             ],
             [
              1,
              "#f0f921"
             ]
            ],
            "type": "histogram2d"
           }
          ],
          "histogram2dcontour": [
           {
            "colorbar": {
             "outlinewidth": 0,
             "ticks": ""
            },
            "colorscale": [
             [
              0,
              "#0d0887"
             ],
             [
              0.1111111111111111,
              "#46039f"
             ],
             [
              0.2222222222222222,
              "#7201a8"
             ],
             [
              0.3333333333333333,
              "#9c179e"
             ],
             [
              0.4444444444444444,
              "#bd3786"
             ],
             [
              0.5555555555555556,
              "#d8576b"
             ],
             [
              0.6666666666666666,
              "#ed7953"
             ],
             [
              0.7777777777777778,
              "#fb9f3a"
             ],
             [
              0.8888888888888888,
              "#fdca26"
             ],
             [
              1,
              "#f0f921"
             ]
            ],
            "type": "histogram2dcontour"
           }
          ],
          "mesh3d": [
           {
            "colorbar": {
             "outlinewidth": 0,
             "ticks": ""
            },
            "type": "mesh3d"
           }
          ],
          "parcoords": [
           {
            "line": {
             "colorbar": {
              "outlinewidth": 0,
              "ticks": ""
             }
            },
            "type": "parcoords"
           }
          ],
          "pie": [
           {
            "automargin": true,
            "type": "pie"
           }
          ],
          "scatter": [
           {
            "fillpattern": {
             "fillmode": "overlay",
             "size": 10,
             "solidity": 0.2
            },
            "type": "scatter"
           }
          ],
          "scatter3d": [
           {
            "line": {
             "colorbar": {
              "outlinewidth": 0,
              "ticks": ""
             }
            },
            "marker": {
             "colorbar": {
              "outlinewidth": 0,
              "ticks": ""
             }
            },
            "type": "scatter3d"
           }
          ],
          "scattercarpet": [
           {
            "marker": {
             "colorbar": {
              "outlinewidth": 0,
              "ticks": ""
             }
            },
            "type": "scattercarpet"
           }
          ],
          "scattergeo": [
           {
            "marker": {
             "colorbar": {
              "outlinewidth": 0,
              "ticks": ""
             }
            },
            "type": "scattergeo"
           }
          ],
          "scattergl": [
           {
            "marker": {
             "colorbar": {
              "outlinewidth": 0,
              "ticks": ""
             }
            },
            "type": "scattergl"
           }
          ],
          "scattermapbox": [
           {
            "marker": {
             "colorbar": {
              "outlinewidth": 0,
              "ticks": ""
             }
            },
            "type": "scattermapbox"
           }
          ],
          "scatterpolar": [
           {
            "marker": {
             "colorbar": {
              "outlinewidth": 0,
              "ticks": ""
             }
            },
            "type": "scatterpolar"
           }
          ],
          "scatterpolargl": [
           {
            "marker": {
             "colorbar": {
              "outlinewidth": 0,
              "ticks": ""
             }
            },
            "type": "scatterpolargl"
           }
          ],
          "scatterternary": [
           {
            "marker": {
             "colorbar": {
              "outlinewidth": 0,
              "ticks": ""
             }
            },
            "type": "scatterternary"
           }
          ],
          "surface": [
           {
            "colorbar": {
             "outlinewidth": 0,
             "ticks": ""
            },
            "colorscale": [
             [
              0,
              "#0d0887"
             ],
             [
              0.1111111111111111,
              "#46039f"
             ],
             [
              0.2222222222222222,
              "#7201a8"
             ],
             [
              0.3333333333333333,
              "#9c179e"
             ],
             [
              0.4444444444444444,
              "#bd3786"
             ],
             [
              0.5555555555555556,
              "#d8576b"
             ],
             [
              0.6666666666666666,
              "#ed7953"
             ],
             [
              0.7777777777777778,
              "#fb9f3a"
             ],
             [
              0.8888888888888888,
              "#fdca26"
             ],
             [
              1,
              "#f0f921"
             ]
            ],
            "type": "surface"
           }
          ],
          "table": [
           {
            "cells": {
             "fill": {
              "color": "#EBF0F8"
             },
             "line": {
              "color": "white"
             }
            },
            "header": {
             "fill": {
              "color": "#C8D4E3"
             },
             "line": {
              "color": "white"
             }
            },
            "type": "table"
           }
          ]
         },
         "layout": {
          "annotationdefaults": {
           "arrowcolor": "#2a3f5f",
           "arrowhead": 0,
           "arrowwidth": 1
          },
          "autotypenumbers": "strict",
          "coloraxis": {
           "colorbar": {
            "outlinewidth": 0,
            "ticks": ""
           }
          },
          "colorscale": {
           "diverging": [
            [
             0,
             "#8e0152"
            ],
            [
             0.1,
             "#c51b7d"
            ],
            [
             0.2,
             "#de77ae"
            ],
            [
             0.3,
             "#f1b6da"
            ],
            [
             0.4,
             "#fde0ef"
            ],
            [
             0.5,
             "#f7f7f7"
            ],
            [
             0.6,
             "#e6f5d0"
            ],
            [
             0.7,
             "#b8e186"
            ],
            [
             0.8,
             "#7fbc41"
            ],
            [
             0.9,
             "#4d9221"
            ],
            [
             1,
             "#276419"
            ]
           ],
           "sequential": [
            [
             0,
             "#0d0887"
            ],
            [
             0.1111111111111111,
             "#46039f"
            ],
            [
             0.2222222222222222,
             "#7201a8"
            ],
            [
             0.3333333333333333,
             "#9c179e"
            ],
            [
             0.4444444444444444,
             "#bd3786"
            ],
            [
             0.5555555555555556,
             "#d8576b"
            ],
            [
             0.6666666666666666,
             "#ed7953"
            ],
            [
             0.7777777777777778,
             "#fb9f3a"
            ],
            [
             0.8888888888888888,
             "#fdca26"
            ],
            [
             1,
             "#f0f921"
            ]
           ],
           "sequentialminus": [
            [
             0,
             "#0d0887"
            ],
            [
             0.1111111111111111,
             "#46039f"
            ],
            [
             0.2222222222222222,
             "#7201a8"
            ],
            [
             0.3333333333333333,
             "#9c179e"
            ],
            [
             0.4444444444444444,
             "#bd3786"
            ],
            [
             0.5555555555555556,
             "#d8576b"
            ],
            [
             0.6666666666666666,
             "#ed7953"
            ],
            [
             0.7777777777777778,
             "#fb9f3a"
            ],
            [
             0.8888888888888888,
             "#fdca26"
            ],
            [
             1,
             "#f0f921"
            ]
           ]
          },
          "colorway": [
           "#636efa",
           "#EF553B",
           "#00cc96",
           "#ab63fa",
           "#FFA15A",
           "#19d3f3",
           "#FF6692",
           "#B6E880",
           "#FF97FF",
           "#FECB52"
          ],
          "font": {
           "color": "#2a3f5f"
          },
          "geo": {
           "bgcolor": "white",
           "lakecolor": "white",
           "landcolor": "#E5ECF6",
           "showlakes": true,
           "showland": true,
           "subunitcolor": "white"
          },
          "hoverlabel": {
           "align": "left"
          },
          "hovermode": "closest",
          "mapbox": {
           "style": "light"
          },
          "paper_bgcolor": "white",
          "plot_bgcolor": "#E5ECF6",
          "polar": {
           "angularaxis": {
            "gridcolor": "white",
            "linecolor": "white",
            "ticks": ""
           },
           "bgcolor": "#E5ECF6",
           "radialaxis": {
            "gridcolor": "white",
            "linecolor": "white",
            "ticks": ""
           }
          },
          "scene": {
           "xaxis": {
            "backgroundcolor": "#E5ECF6",
            "gridcolor": "white",
            "gridwidth": 2,
            "linecolor": "white",
            "showbackground": true,
            "ticks": "",
            "zerolinecolor": "white"
           },
           "yaxis": {
            "backgroundcolor": "#E5ECF6",
            "gridcolor": "white",
            "gridwidth": 2,
            "linecolor": "white",
            "showbackground": true,
            "ticks": "",
            "zerolinecolor": "white"
           },
           "zaxis": {
            "backgroundcolor": "#E5ECF6",
            "gridcolor": "white",
            "gridwidth": 2,
            "linecolor": "white",
            "showbackground": true,
            "ticks": "",
            "zerolinecolor": "white"
           }
          },
          "shapedefaults": {
           "line": {
            "color": "#2a3f5f"
           }
          },
          "ternary": {
           "aaxis": {
            "gridcolor": "white",
            "linecolor": "white",
            "ticks": ""
           },
           "baxis": {
            "gridcolor": "white",
            "linecolor": "white",
            "ticks": ""
           },
           "bgcolor": "#E5ECF6",
           "caxis": {
            "gridcolor": "white",
            "linecolor": "white",
            "ticks": ""
           }
          },
          "title": {
           "x": 0.05
          },
          "xaxis": {
           "automargin": true,
           "gridcolor": "white",
           "linecolor": "white",
           "ticks": "",
           "title": {
            "standoff": 15
           },
           "zerolinecolor": "white",
           "zerolinewidth": 2
          },
          "yaxis": {
           "automargin": true,
           "gridcolor": "white",
           "linecolor": "white",
           "ticks": "",
           "title": {
            "standoff": 15
           },
           "zerolinecolor": "white",
           "zerolinewidth": 2
          }
         }
        },
        "title": {
         "text": "Stress Tensor Plot based on Angle in Full Circle"
        },
        "xaxis": {
         "anchor": "y",
         "autorange": true,
         "domain": [
          0,
          1
         ],
         "range": [
          1,
          399
         ],
         "title": {
          "text": "Angle"
         },
         "type": "linear"
        },
        "yaxis": {
         "anchor": "x",
         "autorange": true,
         "domain": [
          0,
          1
         ],
         "range": [
          -55.054071994444584,
          1046.027367894447
         ],
         "title": {
          "text": "Stress Tensor"
         },
         "type": "linear"
        }
       }
      },
      "image/png": "[encoded data removed]",
      "text/html": [
       "<div>                            <div id=\"13b97340-9ef3-49df-a805-ec4cd0f01d80\" class=\"plotly-graph-div\" style=\"height:1000px; width:100%;\"></div>            <script type=\"text/javascript\">                require([\"plotly\"], function(Plotly) {                    window.PLOTLYENV=window.PLOTLYENV || {};                                    if (document.getElementById(\"13b97340-9ef3-49df-a805-ec4cd0f01d80\")) {                    Plotly.newPlot(                        \"13b97340-9ef3-49df-a805-ec4cd0f01d80\",                        [{\"hovertemplate\":\"Angle=%{x}<br>Stress Tensor=%{y}<extra></extra>\",\"legendgroup\":\"\",\"line\":{\"color\":\"#636efa\",\"dash\":\"solid\"},\"marker\":{\"symbol\":\"circle\"},\"mode\":\"lines\",\"name\":\"\",\"orientation\":\"v\",\"showlegend\":false,\"x\":[1.0,2.0,3.0,4.0,5.0,6.0,7.0,8.0,9.0,10.0,11.0,12.0,12.999999999999998,14.0,15.0,16.0,17.0,18.0,19.0,20.0,21.0,22.0,23.0,24.0,25.0,25.999999999999996,27.0,28.0,29.000000000000004,30.0,31.0,32.0,33.0,34.0,35.0,36.0,37.0,38.0,39.0,40.0,41.0,42.0,43.0,44.0,45.0,46.0,47.0,48.0,48.99999999999999,50.0,51.0,51.99999999999999,53.0,54.0,55.00000000000001,56.0,57.0,58.00000000000001,59.0,60.0,61.0,62.0,62.99999999999999,64.0,65.0,66.0,67.0,68.0,69.0,70.0,71.0,72.0,73.0,74.0,75.0,76.0,77.0,78.0,79.0,80.0,81.0,82.0,83.0,84.0,85.0,86.0,87.0,88.0,89.0,90.0,91.0,92.0,93.00000000000001,94.0,95.0,96.0,97.0,97.99999999999999,99.00000000000001,100.0,101.0,102.0,103.0,103.99999999999999,105.0,106.0,107.0,108.0,108.99999999999999,110.00000000000001,111.0,112.0,113.0,114.0,114.99999999999999,116.00000000000001,117.0,118.0,119.0,120.0,121.00000000000001,122.0,123.0,124.0,125.0,125.99999999999999,127.00000000000001,128.0,129.0,130.0,131.0,132.0,133.0,134.0,135.0,136.0,137.0,138.0,139.0,140.0,141.0,142.0,143.0,144.0,145.0,146.0,147.0,148.0,149.0,150.0,151.0,152.0,153.0,154.0,155.0,156.0,157.0,158.0,159.0,160.0,161.0,162.0,163.0,164.0,165.0,166.0,167.0,168.0,169.0,170.0,171.0,172.0,173.0,174.0,175.0,176.0,177.0,178.0,179.0,180.0,181.0,182.0,183.0,184.0,184.99999999999997,186.00000000000003,187.00000000000003,188.0,189.0,190.0,191.0,192.0,193.0,194.0,195.0,195.99999999999997,197.00000000000003,198.00000000000003,199.0,200.0,201.0,202.0,203.0,204.0,205.0,206.0,206.99999999999997,207.99999999999997,209.00000000000003,210.0,211.0,212.0,213.0,214.0,215.0,216.0,217.0,217.99999999999997,218.99999999999997,220.00000000000003,221.0,222.0,223.0,224.0,225.0,226.0,227.0,228.0,229.0,229.99999999999997,231.00000000000003,232.00000000000003,233.0,234.0,235.0,236.0,237.0,238.0,239.0,240.0,240.99999999999997,242.00000000000003,243.00000000000003,244.0,245.0,246.0,247.0,248.0,249.0,250.0,251.0,251.99999999999997,252.99999999999997,254.00000000000003,255.0,256.0,257.0,258.0,259.0,260.0,261.0,262.0,263.0,264.0,265.0,266.0,267.0,268.0,269.0,270.0,271.0,272.0,273.0,274.0,275.0,276.0,277.0,278.0,279.0,280.0,281.0,282.0,283.0,284.0,285.0,286.0,287.0,288.0,289.0,290.0,291.0,292.0,293.0,294.0,295.0,296.0,297.0,298.0,299.0,300.0,301.0,302.0,303.0,304.0,305.0,306.0,307.0,308.0,309.0,310.0,311.0,312.0,313.0,314.0,315.0,316.0,317.0,318.0,319.0,320.0,321.0,322.0,323.0,324.0,325.0,326.0,327.0,328.0,329.0,330.0,331.0,332.0,333.0,334.0,335.0,336.0,337.0,338.0,339.0,340.0,341.0,342.0,343.0,344.0,345.0,346.0,347.0,348.0,349.0,350.0,351.0,352.0,353.0,354.0,355.0,356.0,357.0,358.0,359.0,360.0,361.0,362.0,363.0,364.0,365.0,366.0,367.0,368.0,368.99999999999994,369.99999999999994,370.99999999999994,372.00000000000006,373.00000000000006,374.00000000000006,375.0,376.0,377.0,378.0,379.0,380.0,381.0,382.0,383.0,384.0,385.0,386.0,387.0,388.0,389.0,390.0,390.99999999999994,391.99999999999994,392.99999999999994,394.00000000000006,395.00000000000006,396.00000000000006,397.0,398.0,399.0],\"xaxis\":\"x\",\"y\":[42.71547317461643,43.43058007128739,44.14510679628461,44.858839597208195,45.571564927800715,46.283069512701175,46.993140412119345,47.70156508641052,48.40813146053119,49.11262798835602,49.8148437168366,50.514568349982234,51.21159231264359,51.90570681407965,52.59670391128855,53.28437657208323,53.96851873789252,54.64892538626864,55.325392593082086,55.99771759438502,56.66569884792422,57.3291360942849,57.987830417647,58.64158430613514,59.290201711744054,59.93348810982129,60.571250558089034,61.20329775518696,61.82944009871858,62.44948974278318,63.06326065497593,63.67056867283883,64.27123155974532,64.86506906020142,65.45190295454684,66.03155711303913,66.60385754930452,67.16863247313928,67.7257123426454,68.27492991568472,68.81612030063602,69.34912100643935,69.87377199191259,70.38991571432528,70.89739717721466,71.39606397742948,71.88576635138756,72.36635722053256,72.83769223597645,73.29962982231382,73.75203122059514,74.19476053044536,74.62768475131537,75.05067382285372,75.46360066438618,75.8663412134913,76.25877446366012,76.64078250102851,77.01225054017122,77.37306695894642,77.7231233323803,78.06231446558141,78.39053842567479,78.70769657274595,79.01369358978542,79.30843751162493,79.59183975285607,79.86381513472308,80.12428191098176,80.37316179271642,80.61037997210718,80.83586514514099,81.04954953325854,81.25136890393144,81.44126259016264,81.61917350890461,81.78504817838949,81.93883673436585,82.08049294523754,82.20997422609936,82.32724165166594,82.43225996808937,82.52499760366237,82.60542667840343,82.6735230125214,82.72926613375631,82.77263928359504,82.80362942235912,82.82222723316372,82.82842712474618,82.82222723316372,82.80362942235912,82.77263928359504,82.72926613375631,82.6735230125214,82.60542667840343,82.52499760366237,82.43225996808937,82.32724165166594,82.20997422609936,82.08049294523754,81.93883673436585,81.78504817838949,81.61917350890461,81.44126259016264,81.25136890393144,81.04954953325854,80.83586514514099,80.6103799721072,80.37316179271642,80.12428191098176,79.86381513472308,79.59183975285607,79.30843751162494,79.01369358978542,78.70769657274593,78.39053842567479,78.06231446558141,77.7231233323803,77.37306695894644,77.01225054017122,76.64078250102851,76.25877446366012,75.8663412134913,75.46360066438618,75.05067382285372,74.62768475131537,74.19476053044538,73.75203122059514,73.29962982231382,72.83769223597646,72.36635722053258,71.88576635138756,71.39606397742948,70.89739717721466,70.3899157143253,69.87377199191259,69.34912100643933,68.81612030063602,68.27492991568472,67.7257123426454,67.16863247313928,66.60385754930454,66.03155711303914,65.45190295454684,64.86506906020142,64.27123155974533,63.67056867283883,63.06326065497593,62.44948974278318,61.829440098718585,61.20329775518696,60.571250558089034,59.933488109821305,59.290201711744054,58.64158430613514,57.98783041764701,57.329136094284905,56.66569884792423,55.99771759438504,55.32539259308208,54.64892538626864,53.96851873789254,53.28437657208323,52.59670391128856,51.90570681407965,51.2115923126436,50.514568349982234,49.81484371683661,49.11262798835604,48.40813146053119,47.70156508641052,46.99314041211936,46.28306951270118,45.571564927800715,44.85883959720822,44.14510679628462,43.430580071287395,42.71547317461643,42.00000000000001,41.284374517640266,40.56881070933818,39.853522503617626,39.13872371086819,38.42462795852673,37.711448626317114,36.99939878156811,36.28869111462878,35.57953787440133,34.87215080401096,34.16674107663212,33.46351923149088,32.762695110062765,32.064477792485654,31.369075534206708,30.676695702883062,29.987544715555142,29.30182797611191,28.61974981306684,27.94151341766381,27.267320782331595,26.59737263950576,25.931868400836322,25.2710060968001,24.61498231673569,23.963992149319658,23.31822912350169,22.67788514991704,22.04315046279384,21.414213562373092,20.791261157858564,20.17447811091445,19.56404737972746,18.960149963650732,18.362964848446072,17.772668952141494,17.18943707152029,16.613441829258008,16.044853621723323,15.483840567458909,14.930568456357566,14.385200699549474,13.84789828001552,13.31881970394186,12.798120952830496,12.285955436380299,11.782473946152937,11.287824610037841,990.9732959000024,945.1804497993293,900.3303157138366,856.4365554288427,813.512539408937,771.5713427252127,730.625741072474,690.6882068776328,651.7709055004864,613.8856915280392,577.0441051634671,541.2573687108685,506.5363831568421,472.891724849935,440.33364227899415,408.8720529513661,378.51654037193333,349.276351123892,321.16039205214133,294.1772275501793,268.3350769513054,243.64181202493086,220.10495457875993,197.73167416757974,176.5287859093373,156.5027484091912,137.65966179216403,120.00526584497425,103.54493826765005,88.28369303542547,74.22617887143754,61.3766778306796,49.73910399564386,39.31700228405619,30.113547369059187,22.131542712175907,15.373419709347997,9.841236950310241,5.536679591521265,2.461058842853121,0.6153115681792709,0.0,0.6153115681792709,2.461058842853121,5.536679591521265,9.841236950309792,15.373419709347997,22.131542712175907,30.113547369059187,39.31700228405574,49.739103995643404,61.37667783067915,74.22617887143709,88.28369303542547,103.54493826764961,120.0052658449738,137.65966179216358,156.5027484091912,176.52878590933685,197.73167416757929,220.1049545787595,243.6418120249304,268.335076951305,294.1772275501788,321.1603920521404,349.27635112389163,378.51654037193293,408.87205295136516,440.33364227899324,472.8917248499345,506.5363831568417,541.257368710868,577.0441051634662,613.8856915280387,651.7709055004859,690.6882068776318,730.6257410724731,771.5713427252118,813.512539408936,856.4365554288418,900.3303157138357,945.1804497993284,990.9732959000002,11.287824610037841,11.782473946152942,12.28595543638029,12.798120952830487,13.318819703941845,13.847898280015496,14.38520069954945,14.930568456357566,15.483840567458895,16.044853621723327,16.613441829257994,17.189437071520285,17.772668952141476,18.362964848446047,18.960149963650704,19.564047379727462,20.17447811091444,20.79126115785855,21.414213562373078,22.043150462793825,22.677885149917028,23.318229123501666,23.963992149319626,24.61498231673569,25.271006096800086,25.93186840083631,26.597372639505743,27.267320782331588,27.941513417663778,28.61974981306684,29.30182797611191,29.987544715555124,30.676695702883055,31.369075534206686,32.06447779248563,32.76269511006275,33.46351923149085,34.16674107663213,34.87215080401096,35.579537874401325,36.28869111462876,36.9993987815681,37.711448626317086,38.42462795852671,39.13872371086816,39.853522503617626,40.56881070933818,41.28437451764025,41.99999999999999,42.715473174616406,43.43058007128736,44.14510679628458,44.858839597208195,45.57156492780071,46.28306951270115,46.99314041211932,47.70156508641048,48.40813146053114,49.112627988356,49.81484371683657,50.514568349982234,51.21159231264362,51.90570681407967,52.59670391128857,53.28437657208325,53.96851873789252,54.64892538626863,55.325392593082064,55.99771759438504,56.66569884792422,57.3291360942849,57.98783041764699,58.641584306135115,59.29020171174402,59.93348810982129,60.57125055808903,61.20329775518694,61.82944009871855,62.44948974278315,63.0632606549759,63.67056867283878,64.27123155974529,64.86506906020142,65.45190295454684,66.03155711303914,66.60385754930454,67.16863247313928,67.7257123426454],\"yaxis\":\"y\",\"type\":\"scatter\"}],                        {\"template\":{\"data\":{\"histogram2dcontour\":[{\"type\":\"histogram2dcontour\",\"colorbar\":{\"outlinewidth\":0,\"ticks\":\"\"},\"colorscale\":[[0.0,\"#0d0887\"],[0.1111111111111111,\"#46039f\"],[0.2222222222222222,\"#7201a8\"],[0.3333333333333333,\"#9c179e\"],[0.4444444444444444,\"#bd3786\"],[0.5555555555555556,\"#d8576b\"],[0.6666666666666666,\"#ed7953\"],[0.7777777777777778,\"#fb9f3a\"],[0.8888888888888888,\"#fdca26\"],[1.0,\"#f0f921\"]]}],\"choropleth\":[{\"type\":\"choropleth\",\"colorbar\":{\"outlinewidth\":0,\"ticks\":\"\"}}],\"histogram2d\":[{\"type\":\"histogram2d\",\"colorbar\":{\"outlinewidth\":0,\"ticks\":\"\"},\"colorscale\":[[0.0,\"#0d0887\"],[0.1111111111111111,\"#46039f\"],[0.2222222222222222,\"#7201a8\"],[0.3333333333333333,\"#9c179e\"],[0.4444444444444444,\"#bd3786\"],[0.5555555555555556,\"#d8576b\"],[0.6666666666666666,\"#ed7953\"],[0.7777777777777778,\"#fb9f3a\"],[0.8888888888888888,\"#fdca26\"],[1.0,\"#f0f921\"]]}],\"heatmap\":[{\"type\":\"heatmap\",\"colorbar\":{\"outlinewidth\":0,\"ticks\":\"\"},\"colorscale\":[[0.0,\"#0d0887\"],[0.1111111111111111,\"#46039f\"],[0.2222222222222222,\"#7201a8\"],[0.3333333333333333,\"#9c179e\"],[0.4444444444444444,\"#bd3786\"],[0.5555555555555556,\"#d8576b\"],[0.6666666666666666,\"#ed7953\"],[0.7777777777777778,\"#fb9f3a\"],[0.8888888888888888,\"#fdca26\"],[1.0,\"#f0f921\"]]}],\"heatmapgl\":[{\"type\":\"heatmapgl\",\"colorbar\":{\"outlinewidth\":0,\"ticks\":\"\"},\"colorscale\":[[0.0,\"#0d0887\"],[0.1111111111111111,\"#46039f\"],[0.2222222222222222,\"#7201a8\"],[0.3333333333333333,\"#9c179e\"],[0.4444444444444444,\"#bd3786\"],[0.5555555555555556,\"#d8576b\"],[0.6666666666666666,\"#ed7953\"],[0.7777777777777778,\"#fb9f3a\"],[0.8888888888888888,\"#fdca26\"],[1.0,\"#f0f921\"]]}],\"contourcarpet\":[{\"type\":\"contourcarpet\",\"colorbar\":{\"outlinewidth\":0,\"ticks\":\"\"}}],\"contour\":[{\"type\":\"contour\",\"colorbar\":{\"outlinewidth\":0,\"ticks\":\"\"},\"colorscale\":[[0.0,\"#0d0887\"],[0.1111111111111111,\"#46039f\"],[0.2222222222222222,\"#7201a8\"],[0.3333333333333333,\"#9c179e\"],[0.4444444444444444,\"#bd3786\"],[0.5555555555555556,\"#d8576b\"],[0.6666666666666666,\"#ed7953\"],[0.7777777777777778,\"#fb9f3a\"],[0.8888888888888888,\"#fdca26\"],[1.0,\"#f0f921\"]]}],\"surface\":[{\"type\":\"surface\",\"colorbar\":{\"outlinewidth\":0,\"ticks\":\"\"},\"colorscale\":[[0.0,\"#0d0887\"],[0.1111111111111111,\"#46039f\"],[0.2222222222222222,\"#7201a8\"],[0.3333333333333333,\"#9c179e\"],[0.4444444444444444,\"#bd3786\"],[0.5555555555555556,\"#d8576b\"],[0.6666666666666666,\"#ed7953\"],[0.7777777777777778,\"#fb9f3a\"],[0.8888888888888888,\"#fdca26\"],[1.0,\"#f0f921\"]]}],\"mesh3d\":[{\"type\":\"mesh3d\",\"colorbar\":{\"outlinewidth\":0,\"ticks\":\"\"}}],\"scatter\":[{\"fillpattern\":{\"fillmode\":\"overlay\",\"size\":10,\"solidity\":0.2},\"type\":\"scatter\"}],\"parcoords\":[{\"type\":\"parcoords\",\"line\":{\"colorbar\":{\"outlinewidth\":0,\"ticks\":\"\"}}}],\"scatterpolargl\":[{\"type\":\"scatterpolargl\",\"marker\":{\"colorbar\":{\"outlinewidth\":0,\"ticks\":\"\"}}}],\"bar\":[{\"error_x\":{\"color\":\"#2a3f5f\"},\"error_y\":{\"color\":\"#2a3f5f\"},\"marker\":{\"line\":{\"color\":\"#E5ECF6\",\"width\":0.5},\"pattern\":{\"fillmode\":\"overlay\",\"size\":10,\"solidity\":0.2}},\"type\":\"bar\"}],\"scattergeo\":[{\"type\":\"scattergeo\",\"marker\":{\"colorbar\":{\"outlinewidth\":0,\"ticks\":\"\"}}}],\"scatterpolar\":[{\"type\":\"scatterpolar\",\"marker\":{\"colorbar\":{\"outlinewidth\":0,\"ticks\":\"\"}}}],\"histogram\":[{\"marker\":{\"pattern\":{\"fillmode\":\"overlay\",\"size\":10,\"solidity\":0.2}},\"type\":\"histogram\"}],\"scattergl\":[{\"type\":\"scattergl\",\"marker\":{\"colorbar\":{\"outlinewidth\":0,\"ticks\":\"\"}}}],\"scatter3d\":[{\"type\":\"scatter3d\",\"line\":{\"colorbar\":{\"outlinewidth\":0,\"ticks\":\"\"}},\"marker\":{\"colorbar\":{\"outlinewidth\":0,\"ticks\":\"\"}}}],\"scattermapbox\":[{\"type\":\"scattermapbox\",\"marker\":{\"colorbar\":{\"outlinewidth\":0,\"ticks\":\"\"}}}],\"scatterternary\":[{\"type\":\"scatterternary\",\"marker\":{\"colorbar\":{\"outlinewidth\":0,\"ticks\":\"\"}}}],\"scattercarpet\":[{\"type\":\"scattercarpet\",\"marker\":{\"colorbar\":{\"outlinewidth\":0,\"ticks\":\"\"}}}],\"carpet\":[{\"aaxis\":{\"endlinecolor\":\"#2a3f5f\",\"gridcolor\":\"white\",\"linecolor\":\"white\",\"minorgridcolor\":\"white\",\"startlinecolor\":\"#2a3f5f\"},\"baxis\":{\"endlinecolor\":\"#2a3f5f\",\"gridcolor\":\"white\",\"linecolor\":\"white\",\"minorgridcolor\":\"white\",\"startlinecolor\":\"#2a3f5f\"},\"type\":\"carpet\"}],\"table\":[{\"cells\":{\"fill\":{\"color\":\"#EBF0F8\"},\"line\":{\"color\":\"white\"}},\"header\":{\"fill\":{\"color\":\"#C8D4E3\"},\"line\":{\"color\":\"white\"}},\"type\":\"table\"}],\"barpolar\":[{\"marker\":{\"line\":{\"color\":\"#E5ECF6\",\"width\":0.5},\"pattern\":{\"fillmode\":\"overlay\",\"size\":10,\"solidity\":0.2}},\"type\":\"barpolar\"}],\"pie\":[{\"automargin\":true,\"type\":\"pie\"}]},\"layout\":{\"autotypenumbers\":\"strict\",\"colorway\":[\"#636efa\",\"#EF553B\",\"#00cc96\",\"#ab63fa\",\"#FFA15A\",\"#19d3f3\",\"#FF6692\",\"#B6E880\",\"#FF97FF\",\"#FECB52\"],\"font\":{\"color\":\"#2a3f5f\"},\"hovermode\":\"closest\",\"hoverlabel\":{\"align\":\"left\"},\"paper_bgcolor\":\"white\",\"plot_bgcolor\":\"#E5ECF6\",\"polar\":{\"bgcolor\":\"#E5ECF6\",\"angularaxis\":{\"gridcolor\":\"white\",\"linecolor\":\"white\",\"ticks\":\"\"},\"radialaxis\":{\"gridcolor\":\"white\",\"linecolor\":\"white\",\"ticks\":\"\"}},\"ternary\":{\"bgcolor\":\"#E5ECF6\",\"aaxis\":{\"gridcolor\":\"white\",\"linecolor\":\"white\",\"ticks\":\"\"},\"baxis\":{\"gridcolor\":\"white\",\"linecolor\":\"white\",\"ticks\":\"\"},\"caxis\":{\"gridcolor\":\"white\",\"linecolor\":\"white\",\"ticks\":\"\"}},\"coloraxis\":{\"colorbar\":{\"outlinewidth\":0,\"ticks\":\"\"}},\"colorscale\":{\"sequential\":[[0.0,\"#0d0887\"],[0.1111111111111111,\"#46039f\"],[0.2222222222222222,\"#7201a8\"],[0.3333333333333333,\"#9c179e\"],[0.4444444444444444,\"#bd3786\"],[0.5555555555555556,\"#d8576b\"],[0.6666666666666666,\"#ed7953\"],[0.7777777777777778,\"#fb9f3a\"],[0.8888888888888888,\"#fdca26\"],[1.0,\"#f0f921\"]],\"sequentialminus\":[[0.0,\"#0d0887\"],[0.1111111111111111,\"#46039f\"],[0.2222222222222222,\"#7201a8\"],[0.3333333333333333,\"#9c179e\"],[0.4444444444444444,\"#bd3786\"],[0.5555555555555556,\"#d8576b\"],[0.6666666666666666,\"#ed7953\"],[0.7777777777777778,\"#fb9f3a\"],[0.8888888888888888,\"#fdca26\"],[1.0,\"#f0f921\"]],\"diverging\":[[0,\"#8e0152\"],[0.1,\"#c51b7d\"],[0.2,\"#de77ae\"],[0.3,\"#f1b6da\"],[0.4,\"#fde0ef\"],[0.5,\"#f7f7f7\"],[0.6,\"#e6f5d0\"],[0.7,\"#b8e186\"],[0.8,\"#7fbc41\"],[0.9,\"#4d9221\"],[1,\"#276419\"]]},\"xaxis\":{\"gridcolor\":\"white\",\"linecolor\":\"white\",\"ticks\":\"\",\"title\":{\"standoff\":15},\"zerolinecolor\":\"white\",\"automargin\":true,\"zerolinewidth\":2},\"yaxis\":{\"gridcolor\":\"white\",\"linecolor\":\"white\",\"ticks\":\"\",\"title\":{\"standoff\":15},\"zerolinecolor\":\"white\",\"automargin\":true,\"zerolinewidth\":2},\"scene\":{\"xaxis\":{\"backgroundcolor\":\"#E5ECF6\",\"gridcolor\":\"white\",\"linecolor\":\"white\",\"showbackground\":true,\"ticks\":\"\",\"zerolinecolor\":\"white\",\"gridwidth\":2},\"yaxis\":{\"backgroundcolor\":\"#E5ECF6\",\"gridcolor\":\"white\",\"linecolor\":\"white\",\"showbackground\":true,\"ticks\":\"\",\"zerolinecolor\":\"white\",\"gridwidth\":2},\"zaxis\":{\"backgroundcolor\":\"#E5ECF6\",\"gridcolor\":\"white\",\"linecolor\":\"white\",\"showbackground\":true,\"ticks\":\"\",\"zerolinecolor\":\"white\",\"gridwidth\":2}},\"shapedefaults\":{\"line\":{\"color\":\"#2a3f5f\"}},\"annotationdefaults\":{\"arrowcolor\":\"#2a3f5f\",\"arrowhead\":0,\"arrowwidth\":1},\"geo\":{\"bgcolor\":\"white\",\"landcolor\":\"#E5ECF6\",\"subunitcolor\":\"white\",\"showland\":true,\"showlakes\":true,\"lakecolor\":\"white\"},\"title\":{\"x\":0.05},\"mapbox\":{\"style\":\"light\"}}},\"xaxis\":{\"anchor\":\"y\",\"domain\":[0.0,1.0],\"title\":{\"text\":\"Angle\"}},\"yaxis\":{\"anchor\":\"x\",\"domain\":[0.0,1.0],\"title\":{\"text\":\"Stress Tensor\"}},\"legend\":{\"tracegroupgap\":0},\"title\":{\"text\":\"Stress Tensor Plot based on Angle in Full Circle\"},\"height\":1000},                        {\"responsive\": true}                    ).then(function(){\n",
       "                            \n",
       "var gd = document.getElementById('13b97340-9ef3-49df-a805-ec4cd0f01d80');\n",
       "var x = new MutationObserver(function (mutations, observer) {{\n",
       "        var display = window.getComputedStyle(gd).display;\n",
       "        if (!display || display === 'none') {{\n",
       "            console.log([gd, 'removed!']);\n",
       "            Plotly.purge(gd);\n",
       "            observer.disconnect();\n",
       "        }}\n",
       "}});\n",
       "\n",
       "// Listen for the removal of the full notebook cells\n",
       "var notebookContainer = gd.closest('#notebook-container');\n",
       "if (notebookContainer) {{\n",
       "    x.observe(notebookContainer, {childList: true});\n",
       "}}\n",
       "\n",
       "// Listen for the clearing of the current output cell\n",
       "var outputEl = gd.closest('.output');\n",
       "if (outputEl) {{\n",
       "    x.observe(outputEl, {childList: true});\n",
       "}}\n",
       "\n",
       "                        })                };                });            </script>        </div>"
      ]
     },
     "metadata": {},
     "output_type": "display_data"
    }
   ],
   "source": [
    "\"\"\"\n",
    "Your code should print something along the lines of\n",
    "x = ...\n",
    "u = ...\n",
    "D = ...\n",
    "tau = ...\n",
    "in a well formatted manner for each point along the circle.\n",
    "\"\"\";\n",
    "\n",
    "# Code here\n",
    "import math\n",
    "import numpy as np\n",
    "import pandas as pd\n",
    "import plotly.express as px\n",
    "\n",
    "# Define the parameter input\n",
    "miu = 20\n",
    "T_y = 2 # Should be 800\n",
    "g_dot = 0.5\n",
    "eps = 10**(-3) # Error value\n",
    "\n",
    "# Define the circle circumference\n",
    "whole_circle = 2*math.pi\n",
    "increment = math.pi/6\n",
    "\n",
    "# Store the stress tensor and angle\n",
    "Tau = []\n",
    "angle_all = []\n",
    "\n",
    "# Calculate the whole sequence in every range of pi/6\n",
    "for theta in range(1, 400, 1):\n",
    "    x = math.cos(theta/180*math.pi)\n",
    "    y = math.sin(theta/180*math.pi)\n",
    "    # Define D as in the relation with the gradient of u manually\n",
    "    # Diferentiate manually\n",
    "    D_11 = 1/2 * (0 + 0)\n",
    "    D_12 = 1/2 * (2 + 2*y)\n",
    "    D_21 = 1/2 * (2*y + 2)\n",
    "    D_22 = 1/2 * (0 + 0)\n",
    "\n",
    "    # Calculate ||D||\n",
    "    D_norm = math.sqrt(1/2*(D_11 + D_12 + D_21 + D_22))\n",
    "\n",
    "    # Calculate the additional miu bar\n",
    "    miu_bar = miu + T_y/eps\n",
    "\n",
    "    # Write the angle\n",
    "    angle = theta/180*180\n",
    "    # Check ||D|| with gamma dot c\n",
    "    if D_norm <= g_dot:\n",
    "        #print(\"\\n\")\n",
    "        #print(\"First Case!\")\n",
    "        T_11 = 2*miu_bar*D_11\n",
    "        T_12 = 2*miu_bar*D_12\n",
    "        T_21 = 2*miu_bar*D_21\n",
    "        T_22 = 2*miu_bar*D_22\n",
    "        T = np.matrix([[T_11, T_12], [T_21, T_22]])\n",
    "        #print(f\"My Matrix component in angle {angle} coordinate:\")\n",
    "        #print(T)\n",
    "    \n",
    "    elif D_norm > g_dot:\n",
    "        #print(\"\\n\")\n",
    "        #print(\"Second Case!\")\n",
    "        T_11 = 2*miu*D_11 + D_11/D_norm*T_y\n",
    "        T_12 = 2*miu*D_12 + D_12/D_norm*T_y\n",
    "        T_21 = 2*miu*D_21 + D_21/D_norm*T_y\n",
    "        T_22 = 2*miu*D_22 + D_22/D_norm*T_y\n",
    "        T = np.matrix([[T_11, T_12], [T_21, T_22]])\n",
    "        #print(f\"My Matrix component in angle {angle} coordinate:\")\n",
    "        #print(T)\n",
    "\n",
    "    # Append to the dataframe\n",
    "    angle_all.append(angle)\n",
    "    Tau.append(T[1,0])\n",
    "    \n",
    "\n",
    "# Convert to dataframe\n",
    "dict = {'Angle': angle_all, 'Stress Tensor': Tau}\n",
    "df = pd.DataFrame(dict)\n",
    "fig = px.line(df, x = \"Angle\", y = \"Stress Tensor\", title=\"Stress Tensor Plot based on Angle in Full Circle\")\n",
    "fig.update_layout(height=1000)\n",
    "fig.show()"
   ]
  },
  {
   "cell_type": "markdown",
   "id": "d997e95f-5397-4921-8bf0-8c30c0f91d0d",
   "metadata": {
    "editable": false,
    "slideshow": {
     "slide_type": ""
    },
    "tags": []
   },
   "source": [
    "Copyright 2024 &copy; Manuel Saberi, High Performance Computing, Ruhr University Bochum. All rights reserved. No part of this notebook may be reproduced, distributed, or transmitted in any form or by any means, including photocopying, recording, or other electronic or mechanical methods, without the prior written permission of the publisher."
   ]
  },
  {
   "cell_type": "code",
   "execution_count": null,
   "id": "c7b53c3f-2cc2-4e03-b7d3-35dbb0dcdc25",
   "metadata": {},
   "outputs": [],
   "source": []
  }
 ],
 "metadata": {
  "kernelspec": {
   "display_name": "Python 3 (ipykernel)",
   "language": "python",
   "name": "python3"
  },
  "language_info": {
   "codemirror_mode": {
    "name": "ipython",
    "version": 3
   },
   "file_extension": ".py",
   "mimetype": "text/x-python",
   "name": "python",
   "nbconvert_exporter": "python",
   "pygments_lexer": "ipython3",
   "version": "3.11.7"
  }
 },
 "nbformat": 4,
 "nbformat_minor": 5
}
