{
 "cells": [
  {
   "cell_type": "markdown",
   "id": "c0161284-d5dc-42cf-849c-bc39b844c3a6",
   "metadata": {
    "editable": false,
    "slideshow": {
     "slide_type": ""
    },
    "tags": []
   },
   "source": [
    "# WEEK 02 - Procedural Programming 1\n",
    "\n",
    "## Learning objectives\n",
    "\n",
    "- Getting started with basic procedural programming in Python\n",
    "- Learning the usage of variables, operators and conditional statements\n",
    "- Taking first steps in translating a desired computational task into program logic\n",
    "\n",
    "In the following, we will get started with the most basic programming concepts in Python and get hands-on experience writing and executing Python code.\n",
    "\n",
    "## Hello World!\n",
    "\n",
    "This is arguably where all programming journeys have started since the beginning of time, so keeping up with the tradition we will start with that most intriguing task.\n",
    "\n",
    "Write a Python code that prints `Hello World!` to the standard output."
   ]
  },
  {
   "cell_type": "code",
   "execution_count": 2,
   "id": "4ef64fdd-2f38-4a4e-8e6a-ad19e43e257f",
   "metadata": {
    "editable": true,
    "slideshow": {
     "slide_type": ""
    },
    "tags": []
   },
   "outputs": [
    {
     "name": "stdout",
     "output_type": "stream",
     "text": [
      "Hello World!\n"
     ]
    }
   ],
   "source": [
    "\"\"\"\n",
    "Your task is to write a program that prints \"Hello World!\" to the standard output.\n",
    "\n",
    "\"\"\";\n",
    "\n",
    "# Code here\n",
    "print(\"Hello World!\")"
   ]
  },
  {
   "cell_type": "markdown",
   "id": "128d6e31-f886-40a8-af30-f1847a3439af",
   "metadata": {
    "editable": false,
    "slideshow": {
     "slide_type": ""
    },
    "tags": []
   },
   "source": [
    "**Expressions** are the smallest building blocks of a program—combinations of numbers, operators, or names that **evaluate to a value**.\n",
    "In this section, we will:\n",
    "- Explore how Python **evaluates** arithmetic and string **expressions**\n",
    "- How expressions differ from **statements**\n",
    "- Learn how to create and store results in **variables**\n",
    "- Understand the difference between **assignment** `=` and **comparison** `==`\n",
    "- Get more familiar with the **Jupyter environment**\n",
    "\n",
    "In Jupyter, you can type an expression in a cell and run it to see its value.\n",
    "Try to predict each result before running the cells below."
   ]
  },
  {
   "cell_type": "code",
   "execution_count": 7,
   "id": "d9abd155-05d7-453b-a1fd-6dcefda2cc28",
   "metadata": {
    "editable": true,
    "slideshow": {
     "slide_type": ""
    },
    "tags": []
   },
   "outputs": [
    {
     "data": {
      "text/plain": [
       "8"
      ]
     },
     "execution_count": 7,
     "metadata": {},
     "output_type": "execute_result"
    }
   ],
   "source": [
    "3 + 5 # basic arithmetic - addition (return integer)\n",
    "# Returns value, evaluate value"
   ]
  },
  {
   "cell_type": "code",
   "execution_count": 8,
   "id": "eefb513e-5add-4034-aef6-826cb1eda4f7",
   "metadata": {
    "editable": true,
    "slideshow": {
     "slide_type": ""
    },
    "tags": []
   },
   "outputs": [
    {
     "data": {
      "text/plain": [
       "3.5"
      ]
     },
     "execution_count": 8,
     "metadata": {},
     "output_type": "execute_result"
    }
   ],
   "source": [
    "7 / 2 # basic arithmetic - division (return float)"
   ]
  },
  {
   "cell_type": "code",
   "execution_count": 24,
   "id": "890cd2bf-e10d-4b42-afdc-bbbe0962aa19",
   "metadata": {
    "editable": true,
    "slideshow": {
     "slide_type": ""
    },
    "tags": []
   },
   "outputs": [
    {
     "data": {
      "text/plain": [
       "3"
      ]
     },
     "execution_count": 24,
     "metadata": {},
     "output_type": "execute_result"
    }
   ],
   "source": [
    "7 // 2 # floor division (return integer)\n",
    "# Return the lower integer value of the division (round off from 3.5 to 3)\n",
    "# The difference from division is the data type that is being returned"
   ]
  },
  {
   "cell_type": "code",
   "execution_count": 10,
   "id": "bf8ac1d4-4700-45e7-9256-69a092832c4a",
   "metadata": {
    "editable": true,
    "slideshow": {
     "slide_type": ""
    },
    "tags": []
   },
   "outputs": [
    {
     "data": {
      "text/plain": [
       "8"
      ]
     },
     "execution_count": 10,
     "metadata": {},
     "output_type": "execute_result"
    }
   ],
   "source": [
    "2**3 # exponentiation (return integer)"
   ]
  },
  {
   "cell_type": "code",
   "execution_count": 11,
   "id": "4df7934c-f25b-4bc2-ab02-8a5d105fbd9e",
   "metadata": {
    "editable": true,
    "slideshow": {
     "slide_type": ""
    },
    "tags": []
   },
   "outputs": [
    {
     "data": {
      "text/plain": [
       "'AAAA'"
      ]
     },
     "execution_count": 11,
     "metadata": {},
     "output_type": "execute_result"
    }
   ],
   "source": [
    "\"A\" * 4 # string manipulation (return string)"
   ]
  },
  {
   "cell_type": "code",
   "execution_count": 25,
   "id": "f072335a-f2e4-4ec2-bc8e-2ad134cae8eb",
   "metadata": {
    "editable": true,
    "slideshow": {
     "slide_type": ""
    },
    "tags": []
   },
   "outputs": [
    {
     "data": {
      "text/plain": [
       "'ABB'"
      ]
     },
     "execution_count": 25,
     "metadata": {},
     "output_type": "execute_result"
    }
   ],
   "source": [
    "\"A\" + \"B\" * 2 # string manipulation (return string)\n",
    "# \"Rule of Prescedence\""
   ]
  },
  {
   "cell_type": "markdown",
   "id": "9a656a25-477c-44d6-b8d2-96899a72026c",
   "metadata": {
    "editable": false,
    "slideshow": {
     "slide_type": ""
    },
    "tags": []
   },
   "source": [
    "Questions:\n",
    "\n",
    "- What is the **data type** that each expression returns?\n",
    "- Why do `7/2` and `7//2` return different results?\n",
    "- How do arithmetic operators work on strings?\n",
    "\n",
    "As a quick reference `+`, `-`, `/`, `//`, `*`, `**`, etc. are called **operators** and the parameters they operate on are called **operands**, e.g., in `3 + 5`, `+` is the operator and `3` and `5` are the operands.\n",
    "\n",
    "**Variables** are named locations in the memory, i.e., they store values under a name, kind of like a labeled box, where the label is the variable name and the content of the box is the value. You can imagine how this mechanism would make life easier for the programmer and allow for the implementation of more complex logic.\n",
    "\n",
    "The assignment operator `=` is used to create and assign values to variables."
   ]
  },
  {
   "cell_type": "code",
   "execution_count": 26,
   "id": "e59ab664-b2eb-43f7-9f7d-8dee36344618",
   "metadata": {
    "editable": true,
    "slideshow": {
     "slide_type": ""
    },
    "tags": []
   },
   "outputs": [
    {
     "name": "stdout",
     "output_type": "stream",
     "text": [
      "6\n",
      "5\n"
     ]
    }
   ],
   "source": [
    "x = 3 # saving integer is cost for 4 until 8 bytes\n",
    "y = x + 2\n",
    "x = y + 1\n",
    "print(x)\n",
    "print(y)"
   ]
  },
  {
   "cell_type": "markdown",
   "id": "be201dde-c328-4eae-9f7c-f9fa80ef5c7e",
   "metadata": {
    "editable": false,
    "slideshow": {
     "slide_type": ""
    },
    "tags": []
   },
   "source": [
    "Note how executing `x = 3` does not print anything to the screen. This is because `x = 3` is **not** an expression, i.e., it does not evaluate to a value. Note how the `print` function is used to output the results to the standard output.\n",
    "\n",
    "`x = 3` is a **statement**, in particular and assignment statement. Statements are synthetic units that perform an action or control operation.\n",
    "\n",
    "Standalone expressions such as `3 + 5` are also referred to as **expression statements**.\n",
    "\n",
    "The **data type** of a variable is an important aspect to pay attention to and can often help clarify mystifying behavior, e.g., can you explain the output of the following cell?"
   ]
  },
  {
   "cell_type": "code",
   "execution_count": 19,
   "id": "12d7dc6d-8bca-4d5b-b858-488651e8ba99",
   "metadata": {
    "editable": true,
    "slideshow": {
     "slide_type": ""
    },
    "tags": []
   },
   "outputs": [
    {
     "name": "stdout",
     "output_type": "stream",
     "text": [
      "6\n",
      "33\n"
     ]
    }
   ],
   "source": [
    "x = 3  # Define integer \n",
    "y = \"3\" # Define string\n",
    "print(x * 2) # Mathematical sequence\n",
    "print(y * 2) # String operation"
   ]
  },
  {
   "cell_type": "markdown",
   "id": "aed5966a-8465-42cb-a4b7-8d166529fddb",
   "metadata": {
    "editable": false,
    "slideshow": {
     "slide_type": ""
    },
    "tags": []
   },
   "source": [
    "Another important distinction is the difference between the assignment operator `=` and the comparison operator `==`. One caveat to keep in mind in this regard is floating point comparison, which should not be done directly and instead using a tolerance, see [here](https://en.wikipedia.org/wiki/Floating-point_arithmetic) for more details.\n",
    "\n",
    "Try to guess the output of the following cells before executing them."
   ]
  },
  {
   "cell_type": "code",
   "execution_count": 16,
   "id": "f5ad5bbc-ee23-40d8-804e-147df983be44",
   "metadata": {
    "editable": true,
    "slideshow": {
     "slide_type": ""
    },
    "tags": []
   },
   "outputs": [
    {
     "name": "stdout",
     "output_type": "stream",
     "text": [
      "3\n"
     ]
    }
   ],
   "source": [
    "x = 3 # Value assignment\n",
    "print(x)"
   ]
  },
  {
   "cell_type": "code",
   "execution_count": 17,
   "id": "9e735351-8456-4b65-8ebe-2fb06db1cafb",
   "metadata": {
    "editable": true,
    "slideshow": {
     "slide_type": ""
    },
    "tags": []
   },
   "outputs": [
    {
     "data": {
      "text/plain": [
       "False"
      ]
     },
     "execution_count": 17,
     "metadata": {},
     "output_type": "execute_result"
    }
   ],
   "source": [
    "3 == 5 # Comparison value, this will return Boolean\n",
    "\"\"\"\n",
    "This one is called expression because it return something.\n",
    "\"\"\""
   ]
  },
  {
   "cell_type": "code",
   "execution_count": 18,
   "id": "77431547-70fb-4871-8937-d07c9828cd72",
   "metadata": {
    "editable": true,
    "slideshow": {
     "slide_type": ""
    },
    "tags": []
   },
   "outputs": [
    {
     "name": "stdout",
     "output_type": "stream",
     "text": [
      "False\n"
     ]
    }
   ],
   "source": [
    "x = 3 # Not expression\n",
    "y = 5 # Not expression\n",
    "print(x == y) # Is expression"
   ]
  },
  {
   "cell_type": "markdown",
   "id": "ebba4787-04d9-4fa3-88b6-ba4991a3fb35",
   "metadata": {
    "editable": false,
    "slideshow": {
     "slide_type": ""
    },
    "tags": []
   },
   "source": [
    "Now try to store `Hello World!` in a variable named `output` and print its content to the standard output."
   ]
  },
  {
   "cell_type": "code",
   "execution_count": 4,
   "id": "a238d696-382e-4342-9095-befa7a4d28ea",
   "metadata": {
    "editable": true,
    "slideshow": {
     "slide_type": ""
    },
    "tags": []
   },
   "outputs": [
    {
     "name": "stdout",
     "output_type": "stream",
     "text": [
      "Hello World!\n"
     ]
    }
   ],
   "source": [
    "\"\"\"\n",
    "Your task is to rewrite the hello-world program, this time using a variable to store \"Hello World!\"\n",
    "\"\"\";\n",
    "\n",
    "# Code here\n",
    "output = \"Hello World!\"\n",
    "print(output)"
   ]
  },
  {
   "cell_type": "markdown",
   "id": "3e547999-4071-4283-8e16-ca1a690f850b",
   "metadata": {
    "editable": false,
    "slideshow": {
     "slide_type": ""
    },
    "tags": []
   },
   "source": [
    "In addition to exporting results to an output, you can also receive input from the user of your program. The `input` function does this interactively from the standard input. Note, however, that oftentimes you may want to receive input from files for larger input data, which we will cover in the following weeks.\n",
    "\n",
    "For now, ask the user for their name, store it in a variable named `name` and print `Hello <name>` to the standard output."
   ]
  },
  {
   "cell_type": "code",
   "execution_count": 11,
   "id": "ef348620-4b5a-4c81-849b-376097a61ff5",
   "metadata": {
    "editable": true,
    "slideshow": {
     "slide_type": ""
    },
    "tags": []
   },
   "outputs": [
    {
     "name": "stdout",
     "output_type": "stream",
     "text": [
      "Hello Alif!\n"
     ]
    }
   ],
   "source": [
    "\"\"\"\n",
    "Your task is to rewrite the hello-world program, this time asking the user for their name and printing \"Hello <name>\" to the standard output.\n",
    "Use the input function as\n",
    "\n",
    "var = input(\"Your message\")\n",
    "\"\"\";\n",
    "\n",
    "# Code here\n",
    "def input(Name):\n",
    "    print(f\"Hello {Name}!\")\n",
    "var = input(\"Alif\")"
   ]
  },
  {
   "cell_type": "markdown",
   "id": "66b75cce-6364-490e-86ab-a3eac4ca1da8",
   "metadata": {
    "editable": false,
    "slideshow": {
     "slide_type": ""
    },
    "tags": []
   },
   "source": [
    "You should now be familiar with basic expressions and statements in Python as well as many of the most useful operators, use of variables, data types and input/output statements.\n",
    "\n",
    "A missing piece for the realization of more complex logic is **conditional statements**.\n",
    "\n",
    "A program oftentimes needs to make **decisions**—to do something only if a certain condition is met or do different things based on some conditions. This behavior is realized using conditional statements.\n",
    "\n",
    "A **condition** is an expression that can be evaluated to a **boolean** value, i.e., `True` or `False`.\n",
    "\n",
    "Conditional statements execute different parts of the code depending on the truth value of boolean expressions.\n",
    "\n",
    "Let's first see how these boolean expressions might look like. Try to predict the output of each cell before executing it."
   ]
  },
  {
   "cell_type": "code",
   "execution_count": 20,
   "id": "a2e95ddc-1c01-497e-8d78-358cbcde558b",
   "metadata": {
    "editable": true,
    "slideshow": {
     "slide_type": ""
    },
    "tags": []
   },
   "outputs": [
    {
     "data": {
      "text/plain": [
       "True"
      ]
     },
     "execution_count": 20,
     "metadata": {},
     "output_type": "execute_result"
    }
   ],
   "source": [
    "3 < 5"
   ]
  },
  {
   "cell_type": "code",
   "execution_count": 21,
   "id": "9b37154b-807a-4591-9ad4-4472fa4d261c",
   "metadata": {
    "editable": true,
    "slideshow": {
     "slide_type": ""
    },
    "tags": []
   },
   "outputs": [
    {
     "data": {
      "text/plain": [
       "True"
      ]
     },
     "execution_count": 21,
     "metadata": {},
     "output_type": "execute_result"
    }
   ],
   "source": [
    "10 == 2 * 5"
   ]
  },
  {
   "cell_type": "code",
   "execution_count": 22,
   "id": "fb5a025b-a856-4171-a060-582065b4485d",
   "metadata": {
    "editable": true,
    "slideshow": {
     "slide_type": ""
    },
    "tags": []
   },
   "outputs": [
    {
     "data": {
      "text/plain": [
       "True"
      ]
     },
     "execution_count": 22,
     "metadata": {},
     "output_type": "execute_result"
    }
   ],
   "source": [
    "7 != 8"
   ]
  },
  {
   "cell_type": "code",
   "execution_count": 23,
   "id": "b38fc68b-df46-415b-82f9-0ecb8ef7f4ed",
   "metadata": {
    "editable": true,
    "slideshow": {
     "slide_type": ""
    },
    "tags": []
   },
   "outputs": [
    {
     "data": {
      "text/plain": [
       "True"
      ]
     },
     "execution_count": 23,
     "metadata": {},
     "output_type": "execute_result"
    }
   ],
   "source": [
    "\"abc\" < \"abd\""
   ]
  },
  {
   "cell_type": "code",
   "execution_count": 24,
   "id": "18b27d84-582f-4666-88eb-6d29789e8896",
   "metadata": {
    "editable": true,
    "slideshow": {
     "slide_type": ""
    },
    "tags": []
   },
   "outputs": [
    {
     "data": {
      "text/plain": [
       "True"
      ]
     },
     "execution_count": 24,
     "metadata": {},
     "output_type": "execute_result"
    }
   ],
   "source": [
    "4 > 7 or 2 < 3"
   ]
  },
  {
   "cell_type": "code",
   "execution_count": 25,
   "id": "f7fd3d83-f2b9-4ed8-9ae5-850989d63d21",
   "metadata": {
    "editable": true,
    "slideshow": {
     "slide_type": ""
    },
    "tags": []
   },
   "outputs": [
    {
     "data": {
      "text/plain": [
       "False"
      ]
     },
     "execution_count": 25,
     "metadata": {},
     "output_type": "execute_result"
    }
   ],
   "source": [
    "4 > 7 and 2 < 3"
   ]
  },
  {
   "cell_type": "code",
   "execution_count": 26,
   "id": "7b3ad6f0-0eda-4afa-88ae-fbe96826ce80",
   "metadata": {
    "editable": true,
    "slideshow": {
     "slide_type": ""
    },
    "tags": []
   },
   "outputs": [
    {
     "data": {
      "text/plain": [
       "False"
      ]
     },
     "execution_count": 26,
     "metadata": {},
     "output_type": "execute_result"
    }
   ],
   "source": [
    "not (5 < 10)"
   ]
  },
  {
   "cell_type": "code",
   "execution_count": 27,
   "id": "7b3bd37d-c06d-446e-b4b1-302132cab081",
   "metadata": {
    "editable": true,
    "slideshow": {
     "slide_type": ""
    },
    "tags": []
   },
   "outputs": [
    {
     "data": {
      "text/plain": [
       "True"
      ]
     },
     "execution_count": 27,
     "metadata": {},
     "output_type": "execute_result"
    }
   ],
   "source": [
    "x = 10\n",
    "x < 100 and x >= 0"
   ]
  },
  {
   "cell_type": "markdown",
   "id": "8c5e0483-8950-4b43-bfb1-173cb46eb2f2",
   "metadata": {
    "editable": false,
    "slideshow": {
     "slide_type": ""
    },
    "tags": []
   },
   "source": [
    "As you can see a `boolean` value is either `True` or `False` and boolean expressions can be combined using logical operators `and`, `or` and `not` to construct more complex expressions.\n",
    "\n",
    "An `if` statement executes a block of code only if its condition is met, i.e., if it evaluates to `True`. Here's a most basic `if` statement:"
   ]
  },
  {
   "cell_type": "code",
   "execution_count": 13,
   "id": "61017d11-8da5-4af0-b3f9-a7247b7f6758",
   "metadata": {
    "editable": true,
    "slideshow": {
     "slide_type": ""
    },
    "tags": []
   },
   "outputs": [
    {
     "name": "stdout",
     "output_type": "stream",
     "text": [
      "This list always runs.\n"
     ]
    }
   ],
   "source": [
    "temperature = 10\n",
    "\n",
    "if temperature > 20:\n",
    "    print(\"It's warm today!\")\n",
    "\n",
    "print(\"This list always runs.\")"
   ]
  },
  {
   "cell_type": "markdown",
   "id": "38bc5c52-5844-4ace-85d3-a4a800c72a83",
   "metadata": {
    "editable": false,
    "slideshow": {
     "slide_type": ""
    },
    "tags": []
   },
   "source": [
    "Change the value of `temperature` to 10 and run it again. What do you observe? Why?\n",
    "\n",
    "An `if` statement can optionally be combined with (multiple) `elif` statements and at most one `else` statement."
   ]
  },
  {
   "cell_type": "code",
   "execution_count": 29,
   "id": "5a36a5cc-c3f9-46b4-8ee0-efa7a61c42fe",
   "metadata": {
    "editable": true,
    "slideshow": {
     "slide_type": ""
    },
    "tags": []
   },
   "outputs": [
    {
     "name": "stdout",
     "output_type": "stream",
     "text": [
      "Mild day.\n"
     ]
    }
   ],
   "source": [
    "temperature = 20\n",
    "\n",
    "if temperature > 20:\n",
    "    print(\"Warm day.\")\n",
    "elif temperature > 15:\n",
    "    print(\"Mild day.\")\n",
    "else:\n",
    "    print(\"Cold day.\")"
   ]
  },
  {
   "cell_type": "markdown",
   "id": "b834249a-a742-4d0d-b5e3-7d4043c9b0ac",
   "metadata": {
    "editable": false,
    "slideshow": {
     "slide_type": ""
    },
    "tags": []
   },
   "source": [
    "Note that the first condition that is true will be executed and the rest will be skipped! Therefore, **order matters**.\n",
    "\n",
    "As mentioned, the condition can be as simple or as complicated as long as it evaluates to a boolean.\n",
    "\n",
    "As a final touch try implementing the following program that combines the concepts above, remembering that floating point comparison is typically done using a tolerance."
   ]
  },
  {
   "cell_type": "code",
   "execution_count": 23,
   "id": "4e810b56-1b91-4f51-bc5b-a544f29b9a83",
   "metadata": {
    "editable": true,
    "slideshow": {
     "slide_type": ""
    },
    "tags": []
   },
   "outputs": [
    {
     "name": "stdout",
     "output_type": "stream",
     "text": [
      "Within tolerance\n"
     ]
    }
   ],
   "source": [
    "\"\"\"\n",
    "Your task is to get a floating point input from the user and compare it with a reference value. If they are within the given tolerance, print \"Within tolerance.\" Otherwise, print \"Out of tolerance.\"\n",
    "\n",
    "You can use the input function in combination with the float function as follows to receive an input from the user and convert it to a floating point value:\n",
    "var = float(input(\"Your message\"))\n",
    "\n",
    "abs(x) returns the absolute value of x.\n",
    "\"\"\";\n",
    "\n",
    "x_ref = 10.\n",
    "tolerance = 1e-5\n",
    "\n",
    "# Code here\n",
    "def input(x):\n",
    "    value = abs(x-x_ref)\n",
    "    if value < tolerance:\n",
    "        print(\"Within tolerance\")\n",
    "    else:\n",
    "        print(\"Out of tolerance\")\n",
    "\n",
    "var = input(10.00000001)"
   ]
  },
  {
   "cell_type": "markdown",
   "id": "bbf5537c-c16e-4801-9338-7f92b1ecc3c8",
   "metadata": {
    "editable": false,
    "slideshow": {
     "slide_type": ""
    },
    "tags": []
   },
   "source": [
    "## CFD\n",
    "\n",
    "Alright, now that you can print `Hello World!` to the screen, let's do some computational fluid dynamics (CFD), shall we? :)\n",
    "\n",
    "Viscoplastic fluids are a class of non-Newtonian fluids, whose most conspicuous characteristic is the non-differentiability of the constitutive law between the shear stress and shear rate on the one hand and in which the shear stress is zero below the yield stress on the other.\n",
    "\n",
    "The Bingham model is perhaps the simplest model for viscoplastic fluids and can be written as\n",
    "\n",
    "\\begin{equation}\n",
    "    \\begin{cases}\n",
    "    \\boldsymbol{\\tau} = 2 \\mu \\mathbf{D} + \\frac{\\mathbf{D}}{||\\mathbf{D}||} \\tau_{y} \\quad \\text{if} \\quad ||\\boldsymbol{\\tau}|| > \\tau_{y}, \\\\\n",
    "    \\mathbf{D} = 0 \\quad \\text{if} \\quad ||\\boldsymbol{\\tau}|| \\le \\tau_{y},\n",
    "    \\end{cases}\n",
    "\\end{equation}\n",
    "\n",
    "where $\\boldsymbol{\\tau}$ is the stress tensor, $\\mathbf{D} := \\frac{1}{2}(\\nabla \\mathbf{u} + \\nabla \\mathbf{u}^{T}$) denotes the rate-of-strain tensor, $\\mathbf{u}$ is the fluid velocity, $\\tau_{y}$ is the yield stress and $\\mu$ is the constant plastic viscosity. $||\\cdot||$ denotes the Euclidean norm defined as\n",
    "\n",
    "\\begin{equation}\n",
    "||\\boldsymbol{\\nu}|| := \\sqrt{\\frac{1}{2} \\sum_{i, j = 1}^{n} \\nu_{i,j}^{2}}\n",
    "\\end{equation}\n",
    "\n",
    "for an 2-dimensional tensor.\n",
    "\n",
    "To learn more about Bingham fluids, you can refer to the following [Wikipedia article](https://en.wikipedia.org/wiki/Bingham_plastic) although it is purely optional for the given task.\n",
    "\n",
    "Given a flow in 2 dimensions with a yield stress of $\\tau_{y} = 800$Pa and constant plastic viscosity of $\\mu = 20$Pa.s, where the velocity profile is defined as\n",
    "\n",
    "\\begin{equation}\n",
    "    \\mathbf{u} =\n",
    "    \\begin{bmatrix}\n",
    "        y^{2} - 1 \\\\\n",
    "        2x\n",
    "    \\end{bmatrix} \\text{m/s},\n",
    "\\end{equation}\n",
    "\n",
    "write a Python code that computes the rate-of-strain tensor $\\mathbf{D}$ and the stress tensor $\\boldsymbol{\\tau}$ at the point $\\mathbf{X}_{0} = \\begin{pmatrix} 0.5 \\text{m} \\\\ 1.0 \\text{m} \\end{pmatrix}$ and print the results to the standard output.\n",
    "\n",
    "If this is testing your math knowledge, remember that the gradient of a vector $\\mathbf{v} := \\begin{pmatrix} v_{1} \\\\ v_{2} \\end{pmatrix}$ is simply $\\nabla \\mathbf{v} := \\begin{pmatrix} \\frac{\\partial v_{1}}{\\partial x} & \\frac{\\partial v_{2}}{\\partial x} \\\\ \\frac{\\partial v_{1}}{\\partial y} & \\frac{\\partial v_{2}}{\\partial y} \\end{pmatrix}$ and $\\nabla \\mathbf{v}^{T}$ is just its transpose.\n",
    "\n",
    "### Hint\n",
    "\n",
    "- Note that the Bingham model is discontinuous, making it difficult to use in this form computationally; however, for the current task, it suffices to compute the stress tensor and controlling its norm against the yield stress\n",
    "- Store the individual elements of a rank-1 tensor/vector $\\mathbf{v} := \\begin{pmatrix} v_{1} \\\\ v_{2} \\end{pmatrix}$ in two variables `v1` and `v2`, and store the elements of a rank-2 tensor/matrix $\\boldsymbol{\\nu} := \\begin{pmatrix} \\nu_{11} & \\nu_{12} \\\\ \\nu_{21} & \\nu_{22} \\end{pmatrix}$ in variables `nu11`, `nu12`, ...\n",
    "- In order to compute the stress tensor $\\boldsymbol{\\tau}$, you need to compute the rate-of-strain tensor $\\mathbf{D}$ first, which in turn is a function of the velocity gradient and its transpose. Note that the velocity profile is given."
   ]
  },
  {
   "cell_type": "code",
   "execution_count": 29,
   "id": "4024915c-7254-49d4-b225-6d10004a382d",
   "metadata": {
    "editable": true,
    "slideshow": {
     "slide_type": ""
    },
    "tags": []
   },
   "outputs": [],
   "source": [
    "\"\"\"\n",
    "Your task is to compute the stress tensor as well as other intermediate entities such as the rate-of-strain tensor according to the Bingham model.\n",
    "The code should print something along the lines of\n",
    "x = ...\n",
    "u = ...\n",
    "D = ...\n",
    "tau = ...\n",
    "in a well formatted manner.\n",
    "\"\"\";\n",
    "# Present it\n",
    "import math\n",
    "\n",
    "# math.sqrt(x) computes the square root of x\n",
    "\n",
    "# Code here\n",
    "# Define X0\n",
    "x_1 = 0.5\n",
    "x_2 = 1.0\n",
    "\n",
    "# Define U0\n",
    "u_1 = y**2 - 1\n",
    "u_2 = 2*x\n",
    "\n",
    "# Define D as in the relation with the gradient of u manually\n",
    "D_11 = 1/2 * (0 + 0)\n",
    "D_12 = 1/2 * (2 + 2*y)\n",
    "D_21 = 1/2 * (2*y + 2)\n",
    "D_22 = 1/2 * (0 + 0)"
   ]
  },
  {
   "cell_type": "markdown",
   "id": "6c776708-acc8-4b7e-a6a7-dd62c6d64f8f",
   "metadata": {
    "editable": false,
    "slideshow": {
     "slide_type": ""
    },
    "tags": []
   },
   "source": [
    "### Regularized Bingham model\n",
    "\n",
    "The main issue with the original Bingham model above is the fact that regions below the yield stress are undetermined. Try to verify for yourself that the equation breaks down when the rate-of-strain tensor approaches zero.\n",
    "\n",
    "Without going into too much detail, let us introduce an alternative approach from the so-called regularization class of solutions, in which the Bingham model is modified as follows:\n",
    "\n",
    "\\begin{equation}\n",
    "\\boldsymbol{\\tau} =\n",
    "    \\begin{cases}\n",
    "    2 \\tilde{\\mu} \\mathbf{D} \\quad \\text{if} \\quad ||\\mathbf{D}|| \\le \\dot{\\gamma_{c}}, \\\\\n",
    "    2 \\mu \\mathbf{D} + \\frac{\\mathbf{D}}{||\\mathbf{D}||} \\tau_{y} \\quad \\text{if} \\quad ||\\mathbf{D}|| > \\dot{\\gamma_{c}},\n",
    "    \\end{cases}\n",
    "\\end{equation}\n",
    "\n",
    "where $\\dot{\\gamma_{c}}$ is the critical shear rate, chosen to be sufficiently small, and $\\tilde{\\mu}$ is a second viscosity chosen to be as high as possible. We use $\\tilde{\\mu} := \\mu + \\frac{\\tau_{y}}{\\varepsilon}$ here, where $\\varepsilon$ is the regularization parameter.\n",
    "\n",
    "As you may have guessed, your task is now to write a Python code that computes the stress tensor according to the regularized model above for the same velocity profile and at the same point. Assume that $\\dot{\\gamma_{c}} = 0.5$ and $\\varepsilon = 10^{-3}$."
   ]
  },
  {
   "cell_type": "code",
   "execution_count": 42,
   "id": "bfad0793-9d8a-41ae-ae81-6d1982176751",
   "metadata": {
    "editable": true,
    "slideshow": {
     "slide_type": ""
    },
    "tags": []
   },
   "outputs": [],
   "source": [
    "\"\"\"\n",
    "Your task is compute the stress tensor according to the regularized Bingham model above.\n",
    "The code should print something along the lines of\n",
    "x = ...\n",
    "u = ...\n",
    "D = ...\n",
    "tau = ...\n",
    "in a well formatted manner.\n",
    "\"\"\";\n",
    "\n",
    "# Code here"
   ]
  },
  {
   "cell_type": "markdown",
   "id": "adf05614-a82f-4f02-9c5a-c1703e15af2a",
   "metadata": {
    "editable": false,
    "slideshow": {
     "slide_type": ""
    },
    "tags": []
   },
   "source": [
    "## Homework\n",
    "\n",
    "Imagine now that instead of one point you need to start from $\\mathbf{x}_{0}$ and compute $\\mathbf{D}$ and $\\boldsymbol{\\tau}$ at intervals of $\\Delta \\theta = \\frac{\\pi}{6}$ along a circle with unit radius whose center lies at the origin.\n",
    "\n",
    "Write a Python code that computes the stress tensor along with other desired entities such as the rate-of-strain tensor, etc. according to the regularized Bingham model and prints them to the standard output using the code from the previous exercise."
   ]
  },
  {
   "cell_type": "code",
   "execution_count": 6,
   "id": "d37f03a1-06c2-4f28-8901-837931786b1c",
   "metadata": {
    "editable": true,
    "slideshow": {
     "slide_type": ""
    },
    "tags": []
   },
   "outputs": [],
   "source": [
    "\"\"\"\n",
    "Your code should print something along the lines of\n",
    "x = ...\n",
    "u = ...\n",
    "D = ...\n",
    "tau = ...\n",
    "in a well formatted manner for each point along the circle.\n",
    "\"\"\";\n",
    "\n",
    "# Code here"
   ]
  },
  {
   "cell_type": "markdown",
   "id": "d997e95f-5397-4921-8bf0-8c30c0f91d0d",
   "metadata": {
    "editable": false,
    "slideshow": {
     "slide_type": ""
    },
    "tags": []
   },
   "source": [
    "Copyright 2024 &copy; Manuel Saberi, High Performance Computing, Ruhr University Bochum. All rights reserved. No part of this notebook may be reproduced, distributed, or transmitted in any form or by any means, including photocopying, recording, or other electronic or mechanical methods, without the prior written permission of the publisher."
   ]
  }
 ],
 "metadata": {
  "kernelspec": {
   "display_name": "Python 3 (ipykernel)",
   "language": "python",
   "name": "python3"
  },
  "language_info": {
   "codemirror_mode": {
    "name": "ipython",
    "version": 3
   },
   "file_extension": ".py",
   "mimetype": "text/x-python",
   "name": "python",
   "nbconvert_exporter": "python",
   "pygments_lexer": "ipython3",
   "version": "3.13.5"
  }
 },
 "nbformat": 4,
 "nbformat_minor": 5
}
